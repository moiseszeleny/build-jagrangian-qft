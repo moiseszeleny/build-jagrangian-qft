{
 "cells": [
  {
   "cell_type": "markdown",
   "metadata": {},
   "source": [
    "# Construyendo un Lagrangiano en quantum field theory \n",
    "Primero iniciaremos escribiendo un lagrangiano para un campo escalar. Así primero definimos el campo escalar $\\phi$."
   ]
  },
  {
   "cell_type": "code",
   "execution_count": 1,
   "metadata": {},
   "outputs": [],
   "source": [
    "from sympy import *\n",
    "from sympy.physics.quantum import Dagger\n",
    "init_printing()"
   ]
  },
  {
   "cell_type": "markdown",
   "metadata": {},
   "source": [
    "Escribimos a continuación todos los invariantes posibles entre dos dobletes de Higgs $\\phi$ y $\\eta$"
   ]
  },
  {
   "cell_type": "code",
   "execution_count": 2,
   "metadata": {},
   "outputs": [],
   "source": [
    "ϕ = MatrixSymbol(r'\\phi',2,1)\n",
    "η = MatrixSymbol(r'\\eta',2,1)\n",
    "A = Dagger(ϕ) *ϕ\n",
    "B = Dagger(η)*η\n",
    "C = Dagger(ϕ)*η\n",
    "D = Dagger(η)*ϕ"
   ]
  },
  {
   "cell_type": "markdown",
   "metadata": {},
   "source": [
    "Ahora las constantes que usaremos se definen a continuación:"
   ]
  },
  {
   "cell_type": "code",
   "execution_count": 3,
   "metadata": {},
   "outputs": [],
   "source": [
    "m_1 = Symbol(r'm_1')\n",
    "m_2 = Symbol(r'm_2')\n",
    "λ_1 = Symbol(r'\\lambda_1')\n",
    "λ_2 = Symbol(r'\\lambda_2')\n",
    "λ_3 = Symbol(r'\\lambda_3')\n",
    "λ_4 = Symbol(r'\\lambda_4')\n",
    "λ_5 = Symbol(r'\\lambda_5')"
   ]
  },
  {
   "cell_type": "markdown",
   "metadata": {},
   "source": [
    "Así el potencial $V_{s}$ que consideramos es el siguiente:"
   ]
  },
  {
   "cell_type": "code",
   "execution_count": 4,
   "metadata": {},
   "outputs": [
    {
     "data": {
      "image/png": "[encoded data removed]",
      "text/latex": [
       "$$V_{s} = \\lambda_1 \\left(\\phi^\\dagger \\phi\\right)^{2} + \\lambda_2 \\left(\\eta^\\dagger \\eta\\right)^{2} + \\lambda_4 \\left(\\left(\\eta^\\dagger \\phi\\right)^{2} + \\left(\\phi^\\dagger \\eta\\right)^{2}\\right) + m_{1}^{2} \\phi^\\dagger \\phi + m_{2}^{2} \\eta^\\dagger \\eta + \\lambda_3 \\phi^\\dagger \\phi \\eta^\\dagger \\eta + \\lambda_4 \\phi^\\dagger \\eta \\eta^\\dagger \\phi$$"
      ],
      "text/plain": [
       "                          2                        2            ⎛            2\n",
       "              ⎛    †     ⎞             ⎛    †     ⎞             ⎜⎛    †     ⎞ \n",
       "Vₛ = \\lambda₁⋅⎝\\phi ⋅\\phi⎠  + \\lambda₂⋅⎝\\eta ⋅\\eta⎠  + \\lambda₄⋅⎝⎝\\eta ⋅\\phi⎠ \n",
       "\n",
       "               2⎞                                                             \n",
       "   ⎛    †     ⎞ ⎟     2     †          2     †                     †          \n",
       " + ⎝\\phi ⋅\\eta⎠ ⎠ + m₁ ⋅\\phi ⋅\\phi + m₂ ⋅\\eta ⋅\\eta + \\lambda₃⋅\\phi ⋅\\phi⋅\\eta\n",
       "\n",
       "                                       \n",
       "†                     †          †     \n",
       " ⋅\\eta + \\lambda₄⋅\\phi ⋅\\eta⋅\\eta ⋅\\phi"
      ]
     },
     "execution_count": 4,
     "metadata": {},
     "output_type": "execute_result"
    }
   ],
   "source": [
    "V_s = symbols(r'V_s')\n",
    "V = m_1**2*A + m_2**2*B + λ_1*A**2 + λ_2*B**2 + λ_3*A*B + λ_4*C*D + + λ_4*(C**2+ D**2)\n",
    "Eq(V_s, V)"
   ]
  },
  {
   "cell_type": "markdown",
   "metadata": {},
   "source": [
    "Ahora tomaremos en cuenta que ambos dobletes van a estar dados en términos de campos reales $\\phi_i$ y $\\eta_{i}$ con $i = 1,2,3,4$"
   ]
  },
  {
   "cell_type": "code",
   "execution_count": 23,
   "metadata": {},
   "outputs": [
    {
     "data": {
      "image/png": "[encoded data removed]",
      "text/latex": [
       "$$\\left[\\begin{matrix}\\left(\\phi_1 - i \\phi_2\\right) \\left(\\phi_1 + i \\phi_2\\right) + \\left(\\phi_3 - i \\phi_4\\right) \\left(\\phi_3 + i \\phi_4\\right)\\end{matrix}\\right]$$"
      ],
      "text/plain": [
       "[(\\phi₁ - ⅈ⋅\\phi₂)⋅(\\phi₁ + ⅈ⋅\\phi₂) + (\\phi₃ - ⅈ⋅\\phi₄)⋅(\\phi₃ + ⅈ⋅\\phi₄)]"
      ]
     },
     "execution_count": 23,
     "metadata": {},
     "output_type": "execute_result"
    }
   ],
   "source": [
    "ϕ_1 = Symbol(r'\\phi_1', real=True)\n",
    "ϕ_2 = Symbol(r'\\phi_2', real=True)\n",
    "ϕ_3 = Symbol(r'\\phi_3', real=True)\n",
    "ϕ_4 = Symbol(r'\\phi_4', real=True)\n",
    "η_1 = Symbol(r'\\eta_1', real=True)\n",
    "η_2 = Symbol(r'\\eta_2', real=True)\n",
    "η_3 = Symbol(r'\\eta_3', real=True)\n",
    "η_4 = Symbol(r'\\eta_4', real=True)\n",
    "ϕp = Matrix([ϕ_1 + I*ϕ_2,ϕ_3 + I*ϕ_4])\n",
    "ηp = Matrix([η_1 + I*η_2,η_3 + I*η_4])\n",
    "Dagger(ϕp)*ϕp"
   ]
  },
  {
   "cell_type": "markdown",
   "metadata": {},
   "source": [
    "Así, sustituyendo $\\phi$ y $\\eta$ en términos de campos reales en el potencial anteriormente definido, tenemos que:"
   ]
  },
  {
   "cell_type": "code",
   "execution_count": 38,
   "metadata": {},
   "outputs": [
    {
     "data": {
      "image/png": "[encoded data removed]",
      "text/latex": [
       "$$\\lambda_1 \\left(\\left(\\left[\\begin{matrix}\\phi_1 + i \\phi_2\\\\\\phi_3 + i \\phi_4\\end{matrix}\\right]\\right)^\\dagger \\left[\\begin{matrix}\\phi_1 + i \\phi_2\\\\\\phi_3 + i \\phi_4\\end{matrix}\\right]\\right)^{2} + \\lambda_2 \\left(\\left(\\left[\\begin{matrix}\\eta_1 + i \\eta_2\\\\\\eta_3 + i \\eta_4\\end{matrix}\\right]\\right)^\\dagger \\left[\\begin{matrix}\\eta_1 + i \\eta_2\\\\\\eta_3 + i \\eta_4\\end{matrix}\\right]\\right)^{2} + \\lambda_4 \\left(\\left(\\left(\\left[\\begin{matrix}\\eta_1 + i \\eta_2\\\\\\eta_3 + i \\eta_4\\end{matrix}\\right]\\right)^\\dagger \\left[\\begin{matrix}\\phi_1 + i \\phi_2\\\\\\phi_3 + i \\phi_4\\end{matrix}\\right]\\right)^{2} + \\left(\\left(\\left[\\begin{matrix}\\phi_1 + i \\phi_2\\\\\\phi_3 + i \\phi_4\\end{matrix}\\right]\\right)^\\dagger \\left[\\begin{matrix}\\eta_1 + i \\eta_2\\\\\\eta_3 + i \\eta_4\\end{matrix}\\right]\\right)^{2}\\right) + m_{1}^{2} \\left(\\left[\\begin{matrix}\\phi_1 + i \\phi_2\\\\\\phi_3 + i \\phi_4\\end{matrix}\\right]\\right)^\\dagger \\left[\\begin{matrix}\\phi_1 + i \\phi_2\\\\\\phi_3 + i \\phi_4\\end{matrix}\\right] + m_{2}^{2} \\left(\\left[\\begin{matrix}\\eta_1 + i \\eta_2\\\\\\eta_3 + i \\eta_4\\end{matrix}\\right]\\right)^\\dagger \\left[\\begin{matrix}\\eta_1 + i \\eta_2\\\\\\eta_3 + i \\eta_4\\end{matrix}\\right] + \\lambda_3 \\left(\\left[\\begin{matrix}\\phi_1 + i \\phi_2\\\\\\phi_3 + i \\phi_4\\end{matrix}\\right]\\right)^\\dagger \\left[\\begin{matrix}\\phi_1 + i \\phi_2\\\\\\phi_3 + i \\phi_4\\end{matrix}\\right] \\left(\\left[\\begin{matrix}\\eta_1 + i \\eta_2\\\\\\eta_3 + i \\eta_4\\end{matrix}\\right]\\right)^\\dagger \\left[\\begin{matrix}\\eta_1 + i \\eta_2\\\\\\eta_3 + i \\eta_4\\end{matrix}\\right] + \\lambda_4 \\left(\\left[\\begin{matrix}\\phi_1 + i \\phi_2\\\\\\phi_3 + i \\phi_4\\end{matrix}\\right]\\right)^\\dagger \\left[\\begin{matrix}\\eta_1 + i \\eta_2\\\\\\eta_3 + i \\eta_4\\end{matrix}\\right] \\left(\\left[\\begin{matrix}\\eta_1 + i \\eta_2\\\\\\eta_3 + i \\eta_4\\end{matrix}\\right]\\right)^\\dagger \\left[\\begin{matrix}\\phi_1 + i \\phi_2\\\\\\phi_3 + i \\phi_4\\end{matrix}\\right]$$"
      ],
      "text/plain": [
       "                                                 2                            \n",
       "         ⎛                   †                  ⎞             ⎛               \n",
       "\\lambda₁⋅⎜⎛⎡\\phi₁ + ⅈ⋅\\phi₂⎤⎞ ⋅⎡\\phi₁ + ⅈ⋅\\phi₂⎤⎟  + \\lambda₂⋅⎜⎛⎡\\eta₁ + ⅈ⋅\\et\n",
       "         ⎜⎜⎢               ⎥⎟  ⎢               ⎥⎟             ⎜⎜⎢             \n",
       "         ⎝⎝⎣\\phi₃ + ⅈ⋅\\phi₄⎦⎠  ⎣\\phi₃ + ⅈ⋅\\phi₄⎦⎠             ⎝⎝⎣\\eta₃ + ⅈ⋅\\et\n",
       "\n",
       "                        2            ⎛                                        \n",
       "    †                  ⎞             ⎜⎛                   †                  ⎞\n",
       "a₂⎤⎞ ⋅⎡\\eta₁ + ⅈ⋅\\eta₂⎤⎟  + \\lambda₄⋅⎜⎜⎛⎡\\eta₁ + ⅈ⋅\\eta₂⎤⎞ ⋅⎡\\phi₁ + ⅈ⋅\\phi₂⎤⎟\n",
       "  ⎥⎟  ⎢               ⎥⎟             ⎜⎜⎜⎢               ⎥⎟  ⎢               ⎥⎟\n",
       "a₄⎦⎠  ⎣\\eta₃ + ⅈ⋅\\eta₄⎦⎠             ⎝⎝⎝⎣\\eta₃ + ⅈ⋅\\eta₄⎦⎠  ⎣\\phi₃ + ⅈ⋅\\phi₄⎦⎠\n",
       "\n",
       "2                                           2⎞                                \n",
       "    ⎛                   †                  ⎞ ⎟     2                    †     \n",
       "  + ⎜⎛⎡\\phi₁ + ⅈ⋅\\phi₂⎤⎞ ⋅⎡\\eta₁ + ⅈ⋅\\eta₂⎤⎟ ⎟ + m₁ ⋅⎛⎡\\phi₁ + ⅈ⋅\\phi₂⎤⎞ ⋅⎡\\ph\n",
       "    ⎜⎜⎢               ⎥⎟  ⎢               ⎥⎟ ⎟       ⎜⎢               ⎥⎟  ⎢   \n",
       "    ⎝⎝⎣\\phi₃ + ⅈ⋅\\phi₄⎦⎠  ⎣\\eta₃ + ⅈ⋅\\eta₄⎦⎠ ⎠       ⎝⎣\\phi₃ + ⅈ⋅\\phi₄⎦⎠  ⎣\\ph\n",
       "\n",
       "                                                                              \n",
       "                  2                    †                                      \n",
       "i₁ + ⅈ⋅\\phi₂⎤ + m₂ ⋅⎛⎡\\eta₁ + ⅈ⋅\\eta₂⎤⎞ ⋅⎡\\eta₁ + ⅈ⋅\\eta₂⎤ + \\lambda₃⋅⎛⎡\\phi₁ \n",
       "            ⎥       ⎜⎢               ⎥⎟  ⎢               ⎥            ⎜⎢      \n",
       "i₃ + ⅈ⋅\\phi₄⎦       ⎝⎣\\eta₃ + ⅈ⋅\\eta₄⎦⎠  ⎣\\eta₃ + ⅈ⋅\\eta₄⎦            ⎝⎣\\phi₃ \n",
       "\n",
       "                                                                              \n",
       "           †                                      †                           \n",
       "+ ⅈ⋅\\phi₂⎤⎞ ⋅⎡\\phi₁ + ⅈ⋅\\phi₂⎤⋅⎛⎡\\eta₁ + ⅈ⋅\\eta₂⎤⎞ ⋅⎡\\eta₁ + ⅈ⋅\\eta₂⎤ + \\lambd\n",
       "         ⎥⎟  ⎢               ⎥ ⎜⎢               ⎥⎟  ⎢               ⎥         \n",
       "+ ⅈ⋅\\phi₄⎦⎠  ⎣\\phi₃ + ⅈ⋅\\phi₄⎦ ⎝⎣\\eta₃ + ⅈ⋅\\eta₄⎦⎠  ⎣\\eta₃ + ⅈ⋅\\eta₄⎦         \n",
       "\n",
       "                                                                              \n",
       "                      †                                      †                \n",
       "a₄⋅⎛⎡\\phi₁ + ⅈ⋅\\phi₂⎤⎞ ⋅⎡\\eta₁ + ⅈ⋅\\eta₂⎤⋅⎛⎡\\eta₁ + ⅈ⋅\\eta₂⎤⎞ ⋅⎡\\phi₁ + ⅈ⋅\\phi\n",
       "   ⎜⎢               ⎥⎟  ⎢               ⎥ ⎜⎢               ⎥⎟  ⎢              \n",
       "   ⎝⎣\\phi₃ + ⅈ⋅\\phi₄⎦⎠  ⎣\\eta₃ + ⅈ⋅\\eta₄⎦ ⎝⎣\\eta₃ + ⅈ⋅\\eta₄⎦⎠  ⎣\\phi₃ + ⅈ⋅\\phi\n",
       "\n",
       "  \n",
       "  \n",
       "₂⎤\n",
       " ⎥\n",
       "₄⎦"
      ]
     },
     "execution_count": 38,
     "metadata": {},
     "output_type": "execute_result"
    }
   ],
   "source": [
    "V_real = V.subs({ϕ:ϕp, η:ηp})\n",
    "V_real"
   ]
  },
  {
   "cell_type": "code",
   "execution_count": 34,
   "metadata": {},
   "outputs": [
    {
     "data": {
      "image/png": "[encoded data removed]",
      "text/latex": [
       "$$\\left(\\left[\\begin{matrix}\\phi_1 + i \\phi_2\\\\\\phi_3 + i \\phi_4\\end{matrix}\\right]\\right)^\\dagger \\left[\\begin{matrix}\\phi_1 + i \\phi_2\\\\\\phi_3 + i \\phi_4\\end{matrix}\\right]$$"
      ],
      "text/plain": [
       "                   †                  \n",
       "⎛⎡\\phi₁ + ⅈ⋅\\phi₂⎤⎞ ⋅⎡\\phi₁ + ⅈ⋅\\phi₂⎤\n",
       "⎜⎢               ⎥⎟  ⎢               ⎥\n",
       "⎝⎣\\phi₃ + ⅈ⋅\\phi₄⎦⎠  ⎣\\phi₃ + ⅈ⋅\\phi₄⎦"
      ]
     },
     "execution_count": 34,
     "metadata": {},
     "output_type": "execute_result"
    }
   ],
   "source": [
    "A.subs({ϕ:ϕp})"
   ]
  },
  {
   "cell_type": "code",
   "execution_count": null,
   "metadata": {},
   "outputs": [],
   "source": []
  }
 ],
 "metadata": {
  "anaconda-cloud": {},
  "kernelspec": {
   "display_name": "Python [conda root]",
   "language": "python",
   "name": "conda-root-py"
  },
  "language_info": {
   "codemirror_mode": {
    "name": "ipython",
    "version": 3
   },
   "file_extension": ".py",
   "mimetype": "text/x-python",
   "name": "python",
   "nbconvert_exporter": "python",
   "pygments_lexer": "ipython3",
   "version": "3.5.2"
  }
 },
 "nbformat": 4,
 "nbformat_minor": 2
}
