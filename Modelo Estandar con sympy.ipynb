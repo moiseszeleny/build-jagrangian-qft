{
 "cells": [
  {
   "cell_type": "code",
   "execution_count": 1,
   "metadata": {
    "extensions": {
     "jupyter_dashboards": {
      "version": 1,
      "views": {
       "grid_default": {
        "hidden": true
       },
       "report_default": {
        "hidden": true
       }
      }
     }
    },
    "slideshow": {
     "slide_type": "slide"
    }
   },
   "outputs": [],
   "source": [
    "#-*- coding: utf-8 -*-\n",
    "from IPython.core.interactiveshell import InteractiveShell\n",
    "InteractiveShell.ast_node_interactivity = \"all\"\n",
    "from sympy import *\n",
    "from sympy.physics.quantum import Dagger, Operator, HermitianOperator\n",
    "from sympy.physics.matrices import msigma\n",
    "from sympy import Function\n",
    "#numpy\n",
    "import numpy as np\n",
    "#display muestra lo que necesite en el formato adecuado\n",
    "from IPython.display import display\n",
    "import pandas as pd\n",
    "# lo usamos en la defifnición de la funcion terms_rep\n",
    "from collections import defaultdict\n",
    "import colorama\n",
    "init_printing()\n",
    "\n",
    "#Mis funciones\n",
    "def separar_campos(expr):\n",
    "    '''Esta función toma un lagrangiano L y sustrae de cada termino la parte \n",
    "    que esta involucrada con los campos'''\n",
    "    lista = [expr.args[i].args_cnc() for i in range(len(expr.args))]\n",
    "    lista_campos = [np.prod(np.array(lista[i][1])) for i in range(0,len(lista))]\n",
    "    lista = lista_campos\n",
    "    for i in range(0,len(lista)):\n",
    "        if lista[i]==1.0:\n",
    "            lista[i]=S(1)\n",
    "    return lista\n",
    "\n",
    "def lista_campos_acoplamientos(L):\n",
    "    '''Esta función toma un lagrangiano L y devuelve una lista de sublistas cada \n",
    "    una con un termino separado en campos y acoplamientos'''\n",
    "    lista = [L.args[i].args_cnc() for i in range(len(L.args))]\n",
    "    lista_acoplamientos = [[np.prod(np.array(lista[i][0])),np.prod(np.array(lista[i][1]))] \n",
    "                           for i in range(0,len(lista))]\n",
    "    lista = lista_acoplamientos\n",
    "    for i in range(0,len(lista)):\n",
    "        if lista[i][1]==1.0:\n",
    "            lista[i][1]=S(1)\n",
    "    return lista\n",
    "\n",
    "def dic_inv(dicc):\n",
    "    '''\n",
    "    Esta función toma un diccionario e invierte sus \n",
    "    claves y valores\n",
    "    '''\n",
    "    claves = list(dict.keys(dicc))\n",
    "    return {dicc[i]:i for i in claves}\n",
    "\n",
    "\n",
    "def terms_rep(lista):\n",
    "    '''\n",
    "    Esta función da como resultado un diccionario con claves igual a los elementos de \n",
    "    una lista y como valores una lista con los índices donde ella se repite. \n",
    "    Nosotros lo usamos para terminos en un expresion simbolica.\n",
    "    '''\n",
    "    FDE = lista\n",
    "\n",
    "    aux = defaultdict(list)\n",
    "    for index, item in enumerate(FDE):\n",
    "        aux[item].append(index)\n",
    "    result = {item: indexs for item, indexs in aux.items()}\n",
    "    return result\n",
    "\n",
    "def factorizar_campos(expr):\n",
    "    '''\n",
    "    Esta función factoriza todos los campos o productos de campos.\n",
    "    '''\n",
    "    expr = expr.expand()\n",
    "    campos = terms_rep(separar_campos(expr))\n",
    "    claves = list(dict.keys(campos))\n",
    "    terminos = lista_campos_acoplamientos(expr)\n",
    "    return sum([sum([terminos[i][0] for i in campos[j]]).simplify()*j for j in claves])"
   ]
  },
  {
   "cell_type": "markdown",
   "metadata": {
    "extensions": {
     "jupyter_dashboards": {
      "version": 1,
      "views": {
       "grid_default": {
        "col": 0,
        "height": 4,
        "hidden": false,
        "row": 0,
        "width": 12
       },
       "report_default": {
        "hidden": false
       }
      }
     }
    },
    "slideshow": {
     "slide_type": "slide"
    }
   },
   "source": [
    "**Ayuda para construir este notebook.**\n",
    "\n",
    "Interesante guía del uso de [markdown](http://joedicastro.com/pages/markdown.html#mark11).\n",
    "\n",
    "En este notebook se tomó como referencia base el libro [Quantum Field Theory For The Gifted Amateur](http://www.dsf.unica.it/~fiore/libricorsoptr/QuantumFieldTheoryForTheGiftedAmateur.pdf) de Tom Lancaster."
   ]
  },
  {
   "cell_type": "markdown",
   "metadata": {
    "extensions": {
     "jupyter_dashboards": {
      "version": 1,
      "views": {
       "grid_default": {
        "col": 0,
        "height": 4,
        "hidden": false,
        "row": 4,
        "width": 4
       },
       "report_default": {
        "hidden": false
       }
      }
     }
    },
    "slideshow": {
     "slide_type": "subslide"
    }
   },
   "source": [
    "<img src=\"https://culturacientifica.com/app/uploads/2014/06/Del-modelo-estandar-2.png\" />"
   ]
  },
  {
   "cell_type": "markdown",
   "metadata": {
    "extensions": {
     "jupyter_dashboards": {
      "version": 1,
      "views": {
       "grid_default": {
        "col": 4,
        "height": 4,
        "hidden": false,
        "row": 4,
        "width": 4
       },
       "report_default": {
        "hidden": false
       }
      }
     }
    },
    "slideshow": {
     "slide_type": "slide"
    }
   },
   "source": [
    "# Modelo Estándar"
   ]
  },
  {
   "cell_type": "markdown",
   "metadata": {
    "extensions": {
     "jupyter_dashboards": {
      "version": 1,
      "views": {
       "grid_default": {
        "col": 8,
        "height": 19,
        "hidden": false,
        "row": 4,
        "width": null
       },
       "report_default": {
        "hidden": false
       }
      }
     }
    },
    "slideshow": {
     "slide_type": "subslide"
    }
   },
   "source": [
    "## Introducción\n",
    "\n",
    "En este notebook realizaremos la contrucción del modelo estándar de particulas elementales enfocando nos únicamente en ek sector eletrodébil. El modelo estandar está basado en el grupo de norma $SU(3)_{C}\\otimes SU(2)_{L}\\otimes U(1)_{Y}$. De acuerdo la forma en que se transforman bajo este grupo está ralacionada a las relación de Gell-Man-Nishijima:\n",
    "$$Q = I_{3} + \\frac{Y}{2}$$\n",
    "\n",
    "\n",
    "donde $Q$ represernta la carga electromagnética, $Y$ la hipercarga y finalmente $I_{3}$ representa la tercer componente del isoespín, lo cual se resume en la siguiente tabla:\n",
    "<center>\n",
    "<table>\\label{tabla:QIY}\n",
    "  <tr>\n",
    "    <th>particula</th>\n",
    "    <th>$Q$</th>\n",
    "    <th> $I_{3}$ </th>\n",
    "    <th> $Y$ </th>\n",
    "  </tr>\n",
    "  <tr>\n",
    "    <td>$u_{L}$</td>\n",
    "    <td>2/3</td>\n",
    "    <td>1/2</td>\n",
    "    <td>1/3</td>\n",
    "  </tr>\n",
    "  <tr>\n",
    "    <td>$d_{L}$</td>\n",
    "    <td>-1/3</td>\n",
    "    <td>-1/2</td>\n",
    "    <td>1/3</td>\n",
    "  </tr>\n",
    "  <tr>\n",
    "    <td>$\\nu_L$</td>\n",
    "    <td>0</td>\n",
    "    <td>1/2</td>\n",
    "    <td>-1</td>\n",
    "  </tr>\n",
    "  <tr>\n",
    "    <td>$e_L$</td>\n",
    "    <td>-1</td>\n",
    "    <td>-1/2</td>\n",
    "    <td>-1</td>\n",
    "  </tr>\n",
    "</table>\n",
    "</center>\n",
    "\n",
    "En el caso de las particulas quirales derechas al no transformarse bajo $SU(2)$ solo tienen carga electrica Q idéntica a la de sus análogos de quiralidad izquierda. Los valores de $I_3$ en la tabla anterior tienen su origen en la estructura de dobletes bajo la cual se transforman las particulas de quiralidad izquierda, es decir,\n",
    "\n",
    "$$\\begin{pmatrix}\n",
    "u_L\\\\\n",
    "d_L\n",
    "\\end{pmatrix}, \\quad\n",
    "\\begin{pmatrix}\n",
    "\\nu_L\\\\\n",
    "e_L\n",
    "\\end{pmatrix} \n",
    "\\quad \n",
    "\\begin{array}{c}\n",
    "\\rightarrow\\\\\n",
    "\\rightarrow\n",
    "\\end{array}\n",
    "\\quad\n",
    "\\begin{array}{l}\n",
    "isoespín = 1/2\\\\\n",
    "isoespín = -1/2\n",
    "\\end{array}\n",
    "$$\n",
    "\n",
    "Así, la hypercarga en términos de $Q$ y $I_3$ es"
   ]
  },
  {
   "cell_type": "code",
   "execution_count": 2,
   "metadata": {
    "extensions": {
     "jupyter_dashboards": {
      "version": 1,
      "views": {
       "grid_default": {
        "col": 0,
        "height": 4,
        "hidden": false,
        "row": 23,
        "width": null
       },
       "report_default": {
        "hidden": false
       }
      }
     }
    },
    "run_control": {
     "marked": false
    }
   },
   "outputs": [
    {
     "data": {
      "image/png": "[encoded data removed]",
      "text/latex": [
       "$$-1$$"
      ],
      "text/plain": [
       "-1"
      ]
     },
     "execution_count": 2,
     "metadata": {},
     "output_type": "execute_result"
    }
   ],
   "source": [
    "Q = symbols('Q')\n",
    "I_3 = symbols(r'I_3')\n",
    "Y = 2*(Q - I_3)\n",
    "collect_const(Y)\n",
    "Y.subs({Q:0,I_3:S(1)/2})"
   ]
  },
  {
   "cell_type": "markdown",
   "metadata": {
    "extensions": {
     "jupyter_dashboards": {
      "version": 1,
      "views": {
       "grid_default": {
        "col": 0,
        "height": 4,
        "hidden": false,
        "row": 8,
        "width": 4
       },
       "report_default": {
        "hidden": false
       }
      }
     }
    }
   },
   "source": [
    "A continuación el diccionario \"carga\", que contiene como \"keys\" los diferentes sectores de fermiones y como \"values\" el valor de la carga eléctrica correspondiente."
   ]
  },
  {
   "cell_type": "code",
   "execution_count": 3,
   "metadata": {
    "extensions": {
     "jupyter_dashboards": {
      "version": 1,
      "views": {
       "grid_default": {
        "col": 4,
        "height": 4,
        "hidden": false,
        "row": 8,
        "width": 4
       },
       "report_default": {
        "hidden": false
       }
      }
     }
    }
   },
   "outputs": [
    {
     "data": {
      "text/plain": [
       "{'d_L': -1/3, 'e_L': -1, 'nu_L': 0, 'u_L': 2/3}"
      ]
     },
     "execution_count": 3,
     "metadata": {},
     "output_type": "execute_result"
    }
   ],
   "source": [
    "carga = {'u_L':S(2)/3,'d_L':-S(1)/3,'nu_L':S(0),'e_L':-S(1)}\n",
    "carga"
   ]
  },
  {
   "cell_type": "markdown",
   "metadata": {
    "extensions": {
     "jupyter_dashboards": {
      "version": 1,
      "views": {
       "grid_default": {
        "col": 0,
        "height": 4,
        "hidden": false,
        "row": 12,
        "width": 4
       },
       "report_default": {
        "hidden": false
       }
      }
     }
    }
   },
   "source": [
    "La lista \"fermiones_L\" continene a los fermiones de quiralidad izquierda."
   ]
  },
  {
   "cell_type": "code",
   "execution_count": 4,
   "metadata": {
    "extensions": {
     "jupyter_dashboards": {
      "version": 1,
      "views": {
       "grid_default": {
        "col": 4,
        "height": 4,
        "hidden": false,
        "row": 12,
        "width": 4
       },
       "report_default": {
        "hidden": false
       }
      }
     }
    },
    "run_control": {
     "marked": false
    }
   },
   "outputs": [
    {
     "data": {
      "text/plain": [
       "['d_L', 'u_L', 'nu_L', 'e_L']"
      ]
     },
     "execution_count": 4,
     "metadata": {},
     "output_type": "execute_result"
    }
   ],
   "source": [
    "fermiones_L = list(dict.keys(carga))\n",
    "fermiones_L"
   ]
  },
  {
   "cell_type": "markdown",
   "metadata": {
    "extensions": {
     "jupyter_dashboards": {
      "version": 1,
      "views": {
       "grid_default": {
        "col": 0,
        "height": 4,
        "hidden": false,
        "row": 16,
        "width": 4
       },
       "report_default": {
        "hidden": false
       }
      }
     }
    }
   },
   "source": [
    "La lista \"fermiones_r\" continene a los fermiones de quiralidad derecha."
   ]
  },
  {
   "cell_type": "code",
   "execution_count": 5,
   "metadata": {
    "extensions": {
     "jupyter_dashboards": {
      "version": 1,
      "views": {
       "grid_default": {
        "col": 4,
        "height": 4,
        "hidden": false,
        "row": 16,
        "width": 4
       },
       "report_default": {
        "hidden": false
       }
      }
     }
    },
    "run_control": {
     "marked": false
    }
   },
   "outputs": [
    {
     "data": {
      "text/plain": [
       "['u_R', 'd_R', 'nu_R', 'e_R']"
      ]
     },
     "execution_count": 5,
     "metadata": {},
     "output_type": "execute_result"
    }
   ],
   "source": [
    "fermiones_R = ['u_R','d_R','nu_R','e_R']\n",
    "fermiones_R"
   ]
  },
  {
   "cell_type": "code",
   "execution_count": 6,
   "metadata": {
    "extensions": {
     "jupyter_dashboards": {
      "version": 1,
      "views": {
       "grid_default": {
        "col": 0,
        "height": 4,
        "hidden": false,
        "row": 27,
        "width": 4
       },
       "report_default": {
        "hidden": false
       }
      }
     }
    },
    "run_control": {
     "marked": false
    }
   },
   "outputs": [
    {
     "data": {
      "text/plain": [
       "{'d_L': -1/2, 'e_L': -1/2, 'nu_L': 1/2, 'u_L': 1/2}"
      ]
     },
     "execution_count": 6,
     "metadata": {},
     "output_type": "execute_result"
    }
   ],
   "source": [
    "isospin_3 = dict.fromkeys(fermiones_L) # crea un nuevo diccionario con los \"keys\" de la lista fermiones_L\n",
    "\n",
    "for i in range(0,4):\n",
    "    if fermiones_L[i]=='u_L' or fermiones_L[i]=='nu_L':\n",
    "        isospin_3[fermiones_L[i]] = S(1)/2\n",
    "    else:\n",
    "        isospin_3[fermiones_L[i]] = -S(1)/2\n",
    "isospin_3"
   ]
  },
  {
   "cell_type": "markdown",
   "metadata": {
    "extensions": {
     "jupyter_dashboards": {
      "version": 1,
      "views": {
       "grid_default": {
        "col": 4,
        "height": 4,
        "hidden": false,
        "row": 27,
        "width": null
       },
       "report_default": {
        "hidden": false
       }
      }
     }
    }
   },
   "source": [
    "Entonces podemos obtener el diccionario \"hypercarga\" utulizando la definición de la hypercarga $Y$ en términos de $Q$ y $I_3$."
   ]
  },
  {
   "cell_type": "code",
   "execution_count": 7,
   "metadata": {
    "extensions": {
     "jupyter_dashboards": {
      "version": 1,
      "views": {
       "grid_default": {
        "col": 0,
        "height": 4,
        "hidden": false,
        "row": 31,
        "width": 4
       },
       "report_default": {
        "hidden": false
       }
      }
     }
    },
    "run_control": {
     "marked": false
    }
   },
   "outputs": [
    {
     "data": {
      "text/plain": [
       "{'d_L': 1/3, 'e_L': -1, 'nu_L': -1, 'u_L': 1/3}"
      ]
     },
     "execution_count": 7,
     "metadata": {},
     "output_type": "execute_result"
    }
   ],
   "source": [
    "hypercarga = dict.fromkeys(fermiones_L)\n",
    "\n",
    "for i in fermiones_L:\n",
    "    hypercarga[i] = Y.subs({Q:carga[i],I_3:isospin_3[i]})\n",
    "    \n",
    "hypercarga"
   ]
  },
  {
   "cell_type": "markdown",
   "metadata": {
    "extensions": {
     "jupyter_dashboards": {
      "version": 1,
      "views": {
       "grid_default": {
        "col": 4,
        "height": 9,
        "hidden": false,
        "row": 31,
        "width": null
       },
       "report_default": {
        "hidden": false
       }
      }
     }
    }
   },
   "source": [
    "## Sector escalar (Higgs)\n",
    "\n",
    "El sector escalar esta formado unicamente por el lagrangiano conrrespondiente al doblete de Higgs $\\phi$. Este Lagrangiano tiene la forma:\n",
    "\n",
    "$$\\mathcal{L}_{\\phi} = (D_{\\mu}\\phi)^{\\dagger}D^{\\mu}\\phi - V_{h}$$\n",
    "\n",
    "donde $V_{h} = \\frac{m_{h}^{2}}{2}\\phi^{\\dagger}\\phi-\\frac{\\lambda}{4}(\\phi^{\\dagger}\\phi)^{2}$ es el potencial de Higgs. Por lo que es sector escalar se divide en dos partes:\n",
    "\n",
    " - **Cinético:** Este contiene las interacciones entre bósones de Norma y el higgs.\n",
    " - **Potencial** Contiene las interaciones Higgs-Higgs.\n",
    " \n",
    "A continuación iniciamos con el potencial de Higgs"
   ]
  },
  {
   "cell_type": "markdown",
   "metadata": {
    "extensions": {
     "jupyter_dashboards": {
      "version": 1,
      "views": {
       "grid_default": {
        "col": 0,
        "height": 4,
        "hidden": false,
        "row": 35,
        "width": 4
       },
       "report_default": {
        "hidden": false
       }
      }
     }
    }
   },
   "source": [
    "### Potencial de Higgs\n",
    "\n",
    "En el modelo estandar, el potencial de Higgs, está dado por "
   ]
  },
  {
   "cell_type": "code",
   "execution_count": 2,
   "metadata": {
    "extensions": {
     "jupyter_dashboards": {
      "version": 1,
      "views": {
       "grid_default": {
        "col": 0,
        "height": 4,
        "hidden": false,
        "row": 40,
        "width": null
       },
       "report_default": {
        "hidden": false
       }
      }
     }
    }
   },
   "outputs": [
    {
     "data": {
      "image/png": "[encoded data removed]",
      "text/latex": [
       "$$V_{h} = - \\frac{\\lambda}{4} \\left(\\phi^\\dagger \\phi\\right)^{2} + \\frac{m_{h}^{2}}{2} \\phi^\\dagger \\phi$$"
      ],
      "text/plain": [
       "                           2     2           \n",
       "     -\\lambda  ⎛    †     ⎞    mₕ      †     \n",
       "Vₕ = ─────────⋅⎝\\phi ⋅\\phi⎠  + ───⋅\\phi ⋅\\phi\n",
       "         4                      2            "
      ]
     },
     "execution_count": 2,
     "metadata": {},
     "output_type": "execute_result"
    }
   ],
   "source": [
    "ϕ = MatrixSymbol(r'\\phi',2,1) \n",
    "m_h = Symbol(r'm_h')\n",
    "λ = Symbol(r'\\lambda')\n",
    "V_h = Symbol(r'V_h')\n",
    "\n",
    "V = (m_h**2/2)*Dagger(ϕ)*ϕ - (λ/4)*(Dagger(ϕ)*ϕ)**2\n",
    "Eq(V_h, V)"
   ]
  },
  {
   "cell_type": "markdown",
   "metadata": {
    "extensions": {
     "jupyter_dashboards": {
      "version": 1,
      "views": {
       "grid_default": {
        "col": 0,
        "height": 4,
        "hidden": false,
        "row": 44,
        "width": null
       },
       "report_default": {
        "hidden": false
       }
      }
     }
    }
   },
   "source": [
    "Sustituimos el campo $\\phi$ en términos de campor reales, $\\phi_i$ con $i = 1,2,3,4$"
   ]
  },
  {
   "cell_type": "code",
   "execution_count": 4,
   "metadata": {
    "extensions": {
     "jupyter_dashboards": {
      "version": 1,
      "views": {
       "grid_default": {
        "col": 0,
        "height": 4,
        "hidden": false,
        "row": 48,
        "width": null
       },
       "report_default": {
        "hidden": false
       }
      }
     }
    }
   },
   "outputs": [
    {
     "data": {
      "image/png": "[encoded data removed]",
      "text/latex": [
       "$$\\left ( \\left[\\begin{matrix}\\phi_1 + i \\phi_2\\\\\\phi_3 + i \\phi_4\\end{matrix}\\right], \\quad - \\frac{1}{4} \\left(\\phi_1^{2} + \\phi_2^{2} + \\phi_3^{2} + \\phi_4^{2}\\right) \\left(\\lambda \\phi_1^{2} + \\lambda \\phi_2^{2} + \\lambda \\phi_3^{2} + \\lambda \\phi_4^{2} - 2 m_{h}^{2}\\right)\\right )$$"
      ],
      "text/plain": [
       "⎛                    ⎛     2        2        2        2⎞ ⎛             2      \n",
       "⎜⎡\\phi₁ + ⅈ⋅\\phi₂⎤  -⎝\\phi₁  + \\phi₂  + \\phi₃  + \\phi₄ ⎠⋅⎝\\lambda⋅\\phi₁  + \\la\n",
       "⎜⎢               ⎥, ──────────────────────────────────────────────────────────\n",
       "⎝⎣\\phi₃ + ⅈ⋅\\phi₄⎦                                                          4 \n",
       "\n",
       "          2                2                2       2⎞ ⎞\n",
       "mbda⋅\\phi₂  + \\lambda⋅\\phi₃  + \\lambda⋅\\phi₄  - 2⋅mₕ ⎠ ⎟\n",
       "───────────────────────────────────────────────────────⎟\n",
       "                                                       ⎠"
      ]
     },
     "execution_count": 4,
     "metadata": {},
     "output_type": "execute_result"
    }
   ],
   "source": [
    "ϕ_1 = Symbol(r'\\phi_1', real=True)\n",
    "ϕ_2 = Symbol(r'\\phi_2', real=True)\n",
    "ϕ_3 = Symbol(r'\\phi_3', real=True)\n",
    "ϕ_4 = Symbol(r'\\phi_4', real=True)\n",
    "ϕp = Matrix([ϕ_1 + I*ϕ_2,ϕ_3 + I*ϕ_4])\n",
    "V = (V.subs({ϕ:ϕp}).doit()).factor()\n",
    "ϕp ,V"
   ]
  },
  {
   "cell_type": "markdown",
   "metadata": {
    "extensions": {
     "jupyter_dashboards": {
      "version": 1,
      "views": {
       "grid_default": {
        "col": 0,
        "height": 4,
        "hidden": false,
        "row": 52,
        "width": 4
       },
       "report_default": {
        "hidden": false
       }
      }
     }
    }
   },
   "source": [
    "Si nos fijamos en el valor de expectación en el vació vev dado por"
   ]
  },
  {
   "cell_type": "code",
   "execution_count": 30,
   "metadata": {
    "extensions": {
     "jupyter_dashboards": {
      "version": 1,
      "views": {
       "grid_default": {
        "col": 4,
        "height": 4,
        "hidden": false,
        "row": 52,
        "width": null
       },
       "report_default": {
        "hidden": false
       }
      }
     }
    }
   },
   "outputs": [
    {
     "data": {
      "image/png": "[encoded data removed]",
      "text/latex": [
       "$$\\left[\\begin{matrix}0\\\\v + \\frac{\\sqrt{2}}{2} h{\\left (x \\right )}\\end{matrix}\\right]$$"
      ],
      "text/plain": [
       "⎡     0     ⎤\n",
       "⎢           ⎥\n",
       "⎢    √2⋅h(x)⎥\n",
       "⎢v + ───────⎥\n",
       "⎣       2   ⎦"
      ]
     },
     "execution_count": 30,
     "metadata": {},
     "output_type": "execute_result"
    }
   ],
   "source": [
    "v = Symbol(r'v', real=True)\n",
    "x = Symbol(r'x', real=True)\n",
    "h = Function('h')(x)\n",
    "cond_min = {ϕ_1:0,ϕ_2:0,ϕ_3:v+h/sqrt(2),ϕ_4:0}\n",
    "ϕvev = ϕp.subs(cond_min)\n",
    "ϕvev"
   ]
  },
  {
   "cell_type": "code",
   "execution_count": 31,
   "metadata": {
    "extensions": {
     "jupyter_dashboards": {
      "version": 1,
      "views": {
       "grid_default": {
        "col": 0,
        "height": 4,
        "hidden": false,
        "row": 56,
        "width": null
       },
       "report_default": {
        "hidden": false
       }
      }
     }
    }
   },
   "outputs": [
    {
     "data": {
      "image/png": "[encoded data removed]",
      "text/latex": [
       "$$\\frac{4 m_{h}^{2}}{\\left(2 v + \\sqrt{2} h{\\left (x \\right )}\\right)^{2}}$$"
      ],
      "text/plain": [
       "         2      \n",
       "     4⋅mₕ       \n",
       "────────────────\n",
       "               2\n",
       "(2⋅v + √2⋅h(x)) "
      ]
     },
     "execution_count": 31,
     "metadata": {},
     "output_type": "execute_result"
    }
   ],
   "source": [
    "λ_0 = solve(V.diff(ϕ_3).subs(cond_min),λ)[0]\n",
    "λ_0"
   ]
  },
  {
   "cell_type": "markdown",
   "metadata": {
    "extensions": {
     "jupyter_dashboards": {
      "version": 1,
      "views": {
       "grid_default": {
        "col": 0,
        "height": 4,
        "hidden": false,
        "row": 60,
        "width": 4
       },
       "report_default": {
        "hidden": false
       }
      }
     }
    }
   },
   "source": [
    "en este caso el potencial de Higgs se reduce a:"
   ]
  },
  {
   "cell_type": "code",
   "execution_count": 32,
   "metadata": {
    "extensions": {
     "jupyter_dashboards": {
      "version": 1,
      "views": {
       "grid_default": {
        "col": 4,
        "height": 4,
        "hidden": false,
        "row": 60,
        "width": null
       },
       "report_default": {
        "hidden": false
       }
      }
     }
    }
   },
   "outputs": [
    {
     "data": {
      "image/png": "[encoded data removed]",
      "text/latex": [
       "$$\\frac{m_{h}^{2}}{16} \\left(2 v + \\sqrt{2} h{\\left (x \\right )}\\right)^{2}$$"
      ],
      "text/plain": [
       "  2                2\n",
       "mₕ ⋅(2⋅v + √2⋅h(x)) \n",
       "────────────────────\n",
       "         16         "
      ]
     },
     "execution_count": 32,
     "metadata": {},
     "output_type": "execute_result"
    }
   ],
   "source": [
    "Vvev = V.subs(cond_min).subs({λ:λ_0})\n",
    "Vvev.simplify()"
   ]
  },
  {
   "cell_type": "code",
   "execution_count": 33,
   "metadata": {
    "extensions": {
     "jupyter_dashboards": {
      "version": 1,
      "views": {
       "grid_default": {
        "col": 0,
        "height": 10,
        "hidden": false,
        "row": 64,
        "width": null
       },
       "report_default": {
        "hidden": false
       }
      }
     }
    }
   },
   "outputs": [
    {
     "data": {
      "image/png": "[encoded data removed]",
      "text/latex": [
       "$$\\left[\\begin{matrix}- \\frac{4 m_{h}^{2} \\left(v + \\frac{\\sqrt{2}}{2} h{\\left (x \\right )}\\right)^{2}}{\\left(2 v + \\sqrt{2} h{\\left (x \\right )}\\right)^{2}} + m_{h}^{2} & 0 & 0 & 0\\\\0 & - \\frac{4 m_{h}^{2} \\left(v + \\frac{\\sqrt{2}}{2} h{\\left (x \\right )}\\right)^{2}}{\\left(2 v + \\sqrt{2} h{\\left (x \\right )}\\right)^{2}} + m_{h}^{2} & 0 & 0\\\\0 & 0 & - \\frac{12 m_{h}^{2} \\left(v + \\frac{\\sqrt{2}}{2} h{\\left (x \\right )}\\right)^{2}}{\\left(2 v + \\sqrt{2} h{\\left (x \\right )}\\right)^{2}} + m_{h}^{2} & 0\\\\0 & 0 & 0 & - \\frac{4 m_{h}^{2} \\left(v + \\frac{\\sqrt{2}}{2} h{\\left (x \\right )}\\right)^{2}}{\\left(2 v + \\sqrt{2} h{\\left (x \\right )}\\right)^{2}} + m_{h}^{2}\\end{matrix}\\right]$$"
      ],
      "text/plain": [
       "⎡                     2                                                       \n",
       "⎢      2 ⎛    √2⋅h(x)⎞                                                        \n",
       "⎢  4⋅mₕ ⋅⎜v + ───────⎟                                                        \n",
       "⎢        ⎝       2   ⎠      2                                                 \n",
       "⎢- ──────────────────── + mₕ                0                              0  \n",
       "⎢                   2                                                         \n",
       "⎢    (2⋅v + √2⋅h(x))                                                          \n",
       "⎢                                                                             \n",
       "⎢                                                   2                         \n",
       "⎢                                    2 ⎛    √2⋅h(x)⎞                          \n",
       "⎢                                4⋅mₕ ⋅⎜v + ───────⎟                          \n",
       "⎢                                      ⎝       2   ⎠      2                   \n",
       "⎢             0                - ──────────────────── + mₕ                 0  \n",
       "⎢                                                 2                           \n",
       "⎢                                  (2⋅v + √2⋅h(x))                            \n",
       "⎢                                                                             \n",
       "⎢                                                                             \n",
       "⎢                                                                   2 ⎛    √2⋅\n",
       "⎢                                                              12⋅mₕ ⋅⎜v + ───\n",
       "⎢                                                                     ⎝       \n",
       "⎢             0                             0                - ───────────────\n",
       "⎢                                                                             \n",
       "⎢                                                                 (2⋅v + √2⋅h(\n",
       "⎢                                                                             \n",
       "⎢                                                                             \n",
       "⎢                                                                             \n",
       "⎢                                                                             \n",
       "⎢                                                                             \n",
       "⎢             0                             0                              0  \n",
       "⎢                                                                             \n",
       "⎣                                                                             \n",
       "\n",
       "                                          ⎤\n",
       "                                          ⎥\n",
       "                                          ⎥\n",
       "                                          ⎥\n",
       "                           0              ⎥\n",
       "                                          ⎥\n",
       "                                          ⎥\n",
       "                                          ⎥\n",
       "                                          ⎥\n",
       "                                          ⎥\n",
       "                                          ⎥\n",
       "                                          ⎥\n",
       "                           0              ⎥\n",
       "                                          ⎥\n",
       "                                          ⎥\n",
       "                                          ⎥\n",
       "     2                                    ⎥\n",
       "h(x)⎞                                     ⎥\n",
       "────⎟                                     ⎥\n",
       "2   ⎠      2                              ⎥\n",
       "────── + mₕ                0              ⎥\n",
       "   2                                      ⎥\n",
       "x))                                       ⎥\n",
       "                                          ⎥\n",
       "                                   2      ⎥\n",
       "                    2 ⎛    √2⋅h(x)⎞       ⎥\n",
       "                4⋅mₕ ⋅⎜v + ───────⎟       ⎥\n",
       "                      ⎝       2   ⎠      2⎥\n",
       "              - ──────────────────── + mₕ ⎥\n",
       "                                 2        ⎥\n",
       "                  (2⋅v + √2⋅h(x))         ⎦"
      ]
     },
     "execution_count": 33,
     "metadata": {},
     "output_type": "execute_result"
    }
   ],
   "source": [
    "ϕs = [ϕ_1,ϕ_2,ϕ_3,ϕ_4]\n",
    "M = Matrix([[V.diff(i).diff(j).simplify() for i in ϕs] for j in ϕs])\n",
    "\n",
    "M = M.subs(cond_min).subs({λ:λ_0})\n",
    "M"
   ]
  },
  {
   "cell_type": "code",
   "execution_count": 34,
   "metadata": {
    "extensions": {
     "jupyter_dashboards": {
      "version": 1,
      "views": {
       "grid_default": {
        "col": 0,
        "height": 5,
        "hidden": false,
        "row": 74,
        "width": null
       },
       "report_default": {
        "hidden": false
       }
      }
     }
    }
   },
   "outputs": [
    {
     "data": {
      "image/png": "[encoded data removed]",
      "text/latex": [
       "$$\\left[\\begin{matrix}0 & 0 & 0 & 0\\\\0 & 0 & 0 & 0\\\\0 & 0 & - 2 m_{h}^{2} & 0\\\\0 & 0 & 0 & 0\\end{matrix}\\right]$$"
      ],
      "text/plain": [
       "⎡0  0    0     0⎤\n",
       "⎢               ⎥\n",
       "⎢0  0    0     0⎥\n",
       "⎢               ⎥\n",
       "⎢           2   ⎥\n",
       "⎢0  0  -2⋅mₕ   0⎥\n",
       "⎢               ⎥\n",
       "⎣0  0    0     0⎦"
      ]
     },
     "execution_count": 34,
     "metadata": {},
     "output_type": "execute_result"
    }
   ],
   "source": [
    "for i in [0,1,2,3]:\n",
    "    M[i,i] = M[i,i].simplify()\n",
    "\n",
    "M"
   ]
  },
  {
   "cell_type": "markdown",
   "metadata": {
    "extensions": {
     "jupyter_dashboards": {
      "version": 1,
      "views": {
       "grid_default": {
        "col": 0,
        "height": 4,
        "hidden": false,
        "row": 79,
        "width": 4
       },
       "report_default": {
        "hidden": false
       }
      }
     }
    }
   },
   "source": [
    "### Termino cinético del Higgs"
   ]
  },
  {
   "cell_type": "markdown",
   "metadata": {
    "extensions": {
     "jupyter_dashboards": {
      "version": 1,
      "views": {
       "grid_default": {
        "col": 4,
        "height": 8,
        "hidden": false,
        "row": 79,
        "width": null
       },
       "report_default": {
        "hidden": false
       }
      }
     }
    }
   },
   "source": [
    "Ahora definimos la derivada covariante para el campo de higgs $$D_\\mu \\phi  = \\partial_{\\mu}\\phi - \\frac{i g_1}{2}\\mathbf{\\tau}\\cdotp \\mathbf{W}_{\\mu}\\phi - \\frac{i g_2}{2} B_{\\mu}\\phi$$\n",
    "\n",
    "Entonces el término cinético del Higgs está dado por:\n",
    "\n",
    "$$L_{k} = (D_{\\mu}\\phi)^{\\dagger} D^{\\mu}\\phi.$$\n",
    "\n",
    "En lo siguiente escribiremos $L_{k}$ cuando tomamos el valor de expectación en el vació del el cual nombramos anteriormente como $\\phi vev$ y en términos de los bósones de norma $w^{\\pm}$ y $Z$"
   ]
  },
  {
   "cell_type": "code",
   "execution_count": 35,
   "metadata": {
    "extensions": {
     "jupyter_dashboards": {
      "version": 1,
      "views": {
       "grid_default": {
        "col": 0,
        "height": 4,
        "hidden": false,
        "row": 87,
        "width": null
       },
       "report_default": {
        "hidden": false
       }
      }
     }
    }
   },
   "outputs": [
    {
     "data": {
      "image/png": "[encoded data removed]",
      "text/latex": [
       "$$\\left ( W_{μ}^{1}, \\quad W_{μ}^{2}, \\quad W_{μ}^{3}, \\quad \\left[\\begin{matrix}W_{μ}^{3} & W_{μ}^{1} - i W_{μ}^{2}\\\\W_{μ}^{1} + i W_{μ}^{2} & - W_{μ}^{3}\\end{matrix}\\right], \\quad \\left[\\begin{matrix}B_{μ} & 0\\\\0 & B_{μ}\\end{matrix}\\right]\\right )$$"
      ],
      "text/plain": [
       "⎛                                    ⎡       W_{μ}__{3}          W_{μ}__{1} - \n",
       "⎜W_{μ}__{1}, W_{μ}__{2}, W_{μ}__{3}, ⎢                                        \n",
       "⎝                                    ⎣W_{μ}__{1} + ⅈ⋅W_{μ}__{2}         -W_{μ}\n",
       "\n",
       "ⅈ⋅W_{μ}__{2}⎤  ⎡B_{μ}    0  ⎤⎞\n",
       "            ⎥, ⎢            ⎥⎟\n",
       "__{3}       ⎦  ⎣  0    B_{μ}⎦⎠"
      ]
     },
     "execution_count": 35,
     "metadata": {},
     "output_type": "execute_result"
    }
   ],
   "source": [
    "W1 = HermitianOperator(r'W_{μ}^{1}')\n",
    "W2 = HermitianOperator(r'W_{μ}^{2}')\n",
    "W3 = HermitianOperator(r'W_{μ}^{3}')\n",
    "B_μ = HermitianOperator(r'B_{μ}')\n",
    "b_μ = Matrix([[B_μ,0],[0,B_μ]])#Matriz unitaria 2x2 multiplicada por B_μ\n",
    "τW = msigma(1)*W1 + msigma(2)*W2 + msigma(3)*W3 #producto punto τ.W\n",
    "W1, W2, W3, τW, b_μ\n"
   ]
  },
  {
   "cell_type": "markdown",
   "metadata": {
    "extensions": {
     "jupyter_dashboards": {
      "version": 1,
      "views": {
       "grid_default": {
        "col": 0,
        "height": 4,
        "hidden": false,
        "row": 91,
        "width": null
       },
       "report_default": {
        "hidden": false
       }
      }
     }
    }
   },
   "source": [
    "Nos fijamos primero en el término \n",
    "$\\partial_{\\mu}\\phi = \n",
    "\\begin{pmatrix}\n",
    "0\\\\\n",
    "\\frac{1}{\\sqrt{2}}\\partial_{\\mu}h(x)\n",
    "\\end{pmatrix}$"
   ]
  },
  {
   "cell_type": "code",
   "execution_count": 36,
   "metadata": {
    "extensions": {
     "jupyter_dashboards": {
      "version": 1,
      "views": {
       "grid_default": {
        "col": 0,
        "height": 4,
        "hidden": false,
        "row": 95,
        "width": null
       },
       "report_default": {
        "hidden": false
       }
      }
     }
    }
   },
   "outputs": [
    {
     "data": {
      "image/png": "[encoded data removed]",
      "text/latex": [
       "$$\\left ( \\left[\\begin{matrix}0\\\\\\frac{\\sqrt{2}}{2} \\partial_{μ} h\\end{matrix}\\right], \\quad \\left[\\begin{matrix}0\\\\\\frac{\\sqrt{2}}{2} \\left(v + h\\right)\\end{matrix}\\right]\\right )$$"
      ],
      "text/plain": [
       "⎛⎡        0        ⎤  ⎡    0     ⎤⎞\n",
       "⎜⎢                 ⎥  ⎢          ⎥⎟\n",
       "⎜⎢√2⋅\\partial_{μ} h⎥, ⎢√2⋅(v + h)⎥⎟\n",
       "⎜⎢─────────────────⎥  ⎢──────────⎥⎟\n",
       "⎝⎣        2        ⎦  ⎣    2     ⎦⎠"
      ]
     },
     "execution_count": 36,
     "metadata": {},
     "output_type": "execute_result"
    }
   ],
   "source": [
    "h = HermitianOperator('h')\n",
    "δ_μh= HermitianOperator(r'\\partial_{μ} h')\n",
    "Δ_μϕ = Matrix([0,(1/sqrt(2))*δ_μh])\n",
    "ϕvev = Matrix([0,(1/sqrt(2))*(v+h)])\n",
    "Δ_μϕ, ϕvev"
   ]
  },
  {
   "cell_type": "code",
   "execution_count": 37,
   "metadata": {
    "extensions": {
     "jupyter_dashboards": {
      "version": 1,
      "views": {
       "grid_default": {
        "col": 0,
        "height": 4,
        "hidden": false,
        "row": 99,
        "width": null
       },
       "report_default": {
        "hidden": false
       }
      }
     }
    }
   },
   "outputs": [
    {
     "data": {
      "image/png": "[encoded data removed]",
      "text/latex": [
       "$$\\left[\\begin{matrix}- \\frac{i g_{1}}{4} \\sqrt{2} \\left(W_{μ}^{1} - i W_{μ}^{2}\\right) \\left(v + h\\right)\\\\\\frac{\\sqrt{2}}{4} \\left(i \\left(g_{1} W_{μ}^{3} - g_{2} B_{μ}\\right) \\left(v + h\\right) + 2 \\partial_{μ} h\\right)\\end{matrix}\\right]$$"
      ],
      "text/plain": [
       "⎡       -√2⋅ⅈ⋅g₁⋅(W_{μ}__{1} - ⅈ⋅W_{μ}__{2})⋅(v + h)         ⎤\n",
       "⎢       ─────────────────────────────────────────────        ⎥\n",
       "⎢                             4                              ⎥\n",
       "⎢                                                            ⎥\n",
       "⎢√2⋅(ⅈ⋅(g₁⋅W_{μ}__{3} - g₂⋅B_{μ})⋅(v + h) + 2⋅\\partial_{μ} h)⎥\n",
       "⎢────────────────────────────────────────────────────────────⎥\n",
       "⎣                             4                              ⎦"
      ]
     },
     "execution_count": 37,
     "metadata": {},
     "output_type": "execute_result"
    }
   ],
   "source": [
    "g_1 = Symbol(r'g_1', real=True)\n",
    "g_2 = Symbol(r'g_2', real=True)\n",
    "D_μϕ = (Δ_μϕ - ((I*g_1/2)*τW + (I*g_2/2)*b_μ)*ϕvev)\n",
    "D_μϕ[0,0] = D_μϕ[0,0].simplify()\n",
    "D_μϕ[1,0] = D_μϕ[1,0].simplify()\n",
    "D_μϕ"
   ]
  },
  {
   "cell_type": "code",
   "execution_count": 38,
   "metadata": {
    "extensions": {
     "jupyter_dashboards": {
      "version": 1,
      "views": {
       "grid_default": {
        "col": 0,
        "height": 4,
        "hidden": false,
        "row": 103,
        "width": null
       },
       "report_default": {
        "hidden": false
       }
      }
     }
    }
   },
   "outputs": [
    {
     "data": {
      "image/png": "[encoded data removed]",
      "text/latex": [
       "$$\\left[\\begin{matrix}\\frac{i g_{1}}{4} \\sqrt{2} \\left(v + h\\right) \\left(W_{μ}^{1} + i W_{μ}^{2}\\right) & \\frac{\\sqrt{2}}{4} \\left(- i \\left(v + h\\right) \\left(g_{1} W_{μ}^{3} - g_{2} B_{μ}\\right) + 2 \\partial_{μ} h\\right)\\end{matrix}\\right]$$"
      ],
      "text/plain": [
       "⎡√2⋅ⅈ⋅g₁⋅(v + h)⋅(W_{μ}__{1} + ⅈ⋅W_{μ}__{2})  √2⋅(-ⅈ⋅(v + h)⋅(g₁⋅W_{μ}__{3} - \n",
       "⎢───────────────────────────────────────────  ────────────────────────────────\n",
       "⎣                     4                                                     4 \n",
       "\n",
       "g₂⋅B_{μ}) + 2⋅\\partial_{μ} h)⎤\n",
       "─────────────────────────────⎥\n",
       "                             ⎦"
      ]
     },
     "execution_count": 38,
     "metadata": {},
     "output_type": "execute_result"
    }
   ],
   "source": [
    "D_μϕ_dagger = (Matrix([Dagger(D_μϕ[0,0]), Dagger(D_μϕ[1,0])]).T).subs({conjugate(δ_μh):δ_μh,conjugate(h):h})\n",
    "D_μϕ_dagger"
   ]
  },
  {
   "cell_type": "code",
   "execution_count": 120,
   "metadata": {
    "extensions": {
     "jupyter_dashboards": {
      "version": 1,
      "views": {
       "grid_default": {
        "col": 0,
        "height": 4,
        "hidden": false,
        "row": 107,
        "width": null
       },
       "report_default": {
        "hidden": false
       }
      }
     }
    }
   },
   "outputs": [
    {
     "data": {
      "image/png": "[encoded data removed]",
      "text/latex": [
       "$$\\frac{g_{1}^{2}}{8} \\left(v + h\\right) \\left(W_{μ}^{1} + i W_{μ}^{2}\\right) \\left(W_{μ}^{1} - i W_{μ}^{2}\\right) \\left(v + h\\right) + \\frac{1}{8} \\left(- i \\left(v + h\\right) \\left(g_{1} W_{μ}^{3} - g_{2} B_{μ}\\right) + 2 \\partial_{μ} h\\right) \\left(i \\left(g_{1} W_{μ}^{3} - g_{2} B_{μ}\\right) \\left(v + h\\right) + 2 \\partial_{μ} h\\right)$$"
      ],
      "text/plain": [
       "  2                                                                           \n",
       "g₁ ⋅(v + h)⋅(W_{μ}__{1} + ⅈ⋅W_{μ}__{2})⋅(W_{μ}__{1} - ⅈ⋅W_{μ}__{2})⋅(v + h)   \n",
       "─────────────────────────────────────────────────────────────────────────── + \n",
       "                                     8                                        \n",
       "\n",
       "                                                                              \n",
       "(-ⅈ⋅(v + h)⋅(g₁⋅W_{μ}__{3} - g₂⋅B_{μ}) + 2⋅\\partial_{μ} h)⋅(ⅈ⋅(g₁⋅W_{μ}__{3} -\n",
       "──────────────────────────────────────────────────────────────────────────────\n",
       "                                                         8                    \n",
       "\n",
       "                                      \n",
       " g₂⋅B_{μ})⋅(v + h) + 2⋅\\partial_{μ} h)\n",
       "──────────────────────────────────────\n",
       "                                      "
      ]
     },
     "execution_count": 120,
     "metadata": {},
     "output_type": "execute_result"
    }
   ],
   "source": [
    "L_k = (D_μϕ_dagger*D_μϕ)[0]\n",
    "L_k"
   ]
  },
  {
   "cell_type": "code",
   "execution_count": 121,
   "metadata": {
    "extensions": {
     "jupyter_dashboards": {
      "version": 1,
      "views": {
       "grid_default": {
        "col": 0,
        "height": 4,
        "hidden": false,
        "row": 111,
        "width": null
       },
       "report_default": {
        "hidden": false
       }
      }
     }
    }
   },
   "outputs": [
    {
     "data": {
      "image/png": "[encoded data removed]",
      "text/latex": [
       "$$\\frac{g_{1}^{2}}{8} \\left(v + h\\right) W^{+} W^{-} \\left(v + h\\right) + \\frac{1}{8} \\left(- i \\left(v + h\\right) \\left(g_{1} W_{μ}^{3} - g_{2} B_{μ}\\right) + 2 \\partial_{μ} h\\right) \\left(i \\left(g_{1} W_{μ}^{3} - g_{2} B_{μ}\\right) \\left(v + h\\right) + 2 \\partial_{μ} h\\right)$$"
      ],
      "text/plain": [
       "  2                                                                           \n",
       "g₁ ⋅(v + h)⋅W__{+}⋅W__{-}⋅(v + h)   (-ⅈ⋅(v + h)⋅(g₁⋅W_{μ}__{3} - g₂⋅B_{μ}) + 2\n",
       "───────────────────────────────── + ──────────────────────────────────────────\n",
       "                8                                                             \n",
       "\n",
       "                                                                          \n",
       "⋅\\partial_{μ} h)⋅(ⅈ⋅(g₁⋅W_{μ}__{3} - g₂⋅B_{μ})⋅(v + h) + 2⋅\\partial_{μ} h)\n",
       "──────────────────────────────────────────────────────────────────────────\n",
       "               8                                                          "
      ]
     },
     "execution_count": 121,
     "metadata": {},
     "output_type": "execute_result"
    }
   ],
   "source": [
    "Wmenos = Operator(r'W^{-}')\n",
    "Wmas = Operator(r'W^{+}')\n",
    "Z_μ = Operator(r'Z_{μ}')\n",
    "A_μ = Operator(r'A_{μ}')\n",
    "#substituciones de W1 y W2 por Wmas y Wmenos\n",
    "Wsubs = {W1-I*W2:Wmenos,W1+I*W2:Wmas}\n",
    "L_k = L_k.subs(Wsubs)\n",
    "L_k"
   ]
  },
  {
   "cell_type": "markdown",
   "metadata": {
    "extensions": {
     "jupyter_dashboards": {
      "version": 1,
      "views": {
       "grid_default": {
        "col": 0,
        "height": 4,
        "hidden": false,
        "row": 115,
        "width": null
       },
       "report_default": {
        "hidden": false
       }
      }
     }
    }
   },
   "source": [
    "Finalmente el término cinético muestra los posibles acoplamientos del Higgs $h$ con los bósones $W^{\\pm}$ y $Z$"
   ]
  },
  {
   "cell_type": "code",
   "execution_count": 122,
   "metadata": {
    "extensions": {
     "jupyter_dashboards": {
      "version": 1,
      "views": {
       "grid_default": {
        "col": 0,
        "height": 4,
        "hidden": false,
        "row": 119,
        "width": null
       },
       "report_default": {
        "hidden": false
       }
      }
     }
    }
   },
   "outputs": [
    {
     "data": {
      "image/png": "[encoded data removed]",
      "text/latex": [
       "$$\\frac{1}{8} \\left(g_{1}^{2} \\left(v + h\\right) W^{+} W^{-} \\left(v + h\\right) - \\left(\\sqrt{- g_{1}^{2} - g_{2}^{2}} \\left(v + h\\right) Z_{μ} - 2 \\partial_{μ} h\\right) \\left(\\sqrt{- g_{1}^{2} - g_{2}^{2}} Z_{μ} \\left(v + h\\right) + 2 \\partial_{μ} h\\right)\\right)$$"
      ],
      "text/plain": [
       "                                    ⎛   _____________                         \n",
       "  2                                 ⎜  ╱     2     2                          \n",
       "g₁ ⋅(v + h)⋅W__{+}⋅W__{-}⋅(v + h) - ⎝╲╱  - g₁  - g₂  ⋅(v + h)⋅Z_μ - 2⋅\\partial\n",
       "──────────────────────────────────────────────────────────────────────────────\n",
       "                                                                   8          \n",
       "\n",
       "      ⎞ ⎛   _____________                               ⎞\n",
       "      ⎟ ⎜  ╱     2     2                                ⎟\n",
       "_{μ} h⎠⋅⎝╲╱  - g₁  - g₂  ⋅Z_μ⋅(v + h) + 2⋅\\partial_{μ} h⎠\n",
       "─────────────────────────────────────────────────────────\n",
       "                                                         "
      ]
     },
     "execution_count": 122,
     "metadata": {},
     "output_type": "execute_result"
    }
   ],
   "source": [
    "Z_μ = HermitianOperator(r'Z_μ')\n",
    "A_μ = HermitianOperator(r'A_μ')\n",
    "#,g_1*W3+g_2*B_μ:sqrt(g_1**2 + g_2**2)*A_μ\n",
    "ZAsubs = {g_1*W3-g_2*B_μ:sqrt(g_1**2 + g_2**2)*Z_μ}\n",
    "L_k = L_k.subs(ZAsubs).collect([Z_μ**2*h,Z_μ**2])\n",
    "L_k.simplify()"
   ]
  },
  {
   "cell_type": "code",
   "execution_count": 125,
   "metadata": {
    "extensions": {
     "jupyter_dashboards": {
      "version": 1,
      "views": {
       "grid_default": {
        "col": 0,
        "height": 5,
        "hidden": false,
        "row": 123,
        "width": null
       },
       "report_default": {
        "hidden": false
       }
      }
     }
    }
   },
   "outputs": [
    {
     "data": {
      "image/png": "[encoded data removed]",
      "text/latex": [
       "$$\\frac{g_{1}^{2} v^{2}}{8} W^{+} W^{-} + \\frac{g_{1}^{2} v}{8} h W^{+} W^{-} + \\frac{g_{1}^{2} v}{8} W^{+} W^{-} h + \\frac{g_{1}^{2} h}{8} W^{+} W^{-} h + \\frac{v^{2} Z_{μ}^{2}}{8} \\left(g_{1}^{2} + g_{2}^{2}\\right) + \\frac{v}{4} \\sqrt{- g_{1}^{2} - g_{2}^{2}} \\partial_{μ} h Z_{μ} - \\frac{i v}{4} \\sqrt{g_{1}^{2} + g_{2}^{2}} Z_{μ} \\partial_{μ} h + \\frac{v Z_{μ}^{2}}{8} \\left(g_{1}^{2} + g_{2}^{2}\\right) h + \\frac{v h}{8} \\left(g_{1}^{2} + g_{2}^{2}\\right) Z_{μ}^{2} + \\frac{\\partial_{μ} h}{4} \\sqrt{- g_{1}^{2} - g_{2}^{2}} Z_{μ} h + \\left(\\frac{g_{1}^{2}}{8} + \\frac{g_{2}^{2}}{8}\\right) h Z_{μ}^{2} h - \\frac{i h}{4} \\sqrt{g_{1}^{2} + g_{2}^{2}} Z_{μ} \\partial_{μ} h + \\frac{\\partial_{μ} h^{2}}{2}$$"
      ],
      "text/plain": [
       "                                                                              \n",
       "  2  2                   2                       2                       2    \n",
       "g₁ ⋅v ⋅W__{+}⋅W__{-}   g₁ ⋅v⋅h⋅W__{+}⋅W__{-}   g₁ ⋅v⋅W__{+}⋅W__{-}⋅h   g₁ ⋅h⋅W\n",
       "──────────────────── + ───────────────────── + ───────────────────── + ───────\n",
       "         8                       8                       8                    \n",
       "\n",
       "                                            _____________                     \n",
       "                  2 ⎛  2     2⎞    2       ╱     2     2                      \n",
       "__{+}⋅W__{-}⋅h   v ⋅⎝g₁  + g₂ ⎠⋅Z_μ    v⋅╲╱  - g₁  - g₂  ⋅\\partial_{μ} h⋅Z_μ  \n",
       "────────────── + ─────────────────── + ───────────────────────────────────── -\n",
       "   8                      8                              4                    \n",
       "\n",
       "        ___________                                                           \n",
       "       ╱   2     2                         ⎛  2     2⎞    2       ⎛  2     2⎞ \n",
       " ⅈ⋅v⋅╲╱  g₁  + g₂  ⋅Z_μ⋅\\partial_{μ} h   v⋅⎝g₁  + g₂ ⎠⋅Z_μ ⋅h   v⋅⎝g₁  + g₂ ⎠⋅\n",
       " ───────────────────────────────────── + ──────────────────── + ──────────────\n",
       "                   4                              8                      8    \n",
       "\n",
       "            _____________                                                    _\n",
       "     2     ╱     2     2                         ⎛  2     2⎞                ╱ \n",
       "h⋅Z_μ    ╲╱  - g₁  - g₂  ⋅\\partial_{μ} h⋅Z_μ⋅h   ⎜g₁    g₂ ⎟      2     ⅈ⋅╲╱  \n",
       "────── + ───────────────────────────────────── + ⎜─── + ───⎟⋅h⋅Z_μ ⋅h - ──────\n",
       "                           4                     ⎝ 8     8 ⎠                  \n",
       "\n",
       "__________                                       \n",
       "  2     2                                       2\n",
       "g₁  + g₂  ⋅h⋅Z_μ⋅\\partial_{μ} h   \\partial_{μ} h \n",
       "─────────────────────────────── + ───────────────\n",
       "            4                            2       "
      ]
     },
     "execution_count": 125,
     "metadata": {},
     "output_type": "execute_result"
    }
   ],
   "source": [
    "L_k = factorizar_campos(L_k)\n",
    "L_k"
   ]
  },
  {
   "cell_type": "code",
   "execution_count": 116,
   "metadata": {
    "extensions": {
     "jupyter_dashboards": {
      "version": 1,
      "views": {
       "grid_default": {
        "col": 0,
        "height": 5,
        "hidden": false,
        "row": 128,
        "width": null
       },
       "report_default": {
        "hidden": false
       }
      }
     }
    }
   },
   "outputs": [
    {
     "data": {
      "image/png": "[encoded data removed]",
      "text/latex": [
       "$$\\frac{4 m_{Z}^{2}}{v^{2}}$$"
      ],
      "text/plain": [
       "     2\n",
       "4⋅m_Z \n",
       "──────\n",
       "   2  \n",
       "  v   "
      ]
     },
     "execution_count": 116,
     "metadata": {},
     "output_type": "execute_result"
    },
    {
     "data": {
      "image/png": "[encoded data removed]",
      "text/latex": [
       "$$\\frac{4 m_{W}^{2}}{v^{2}}$$"
      ],
      "text/plain": [
       "     2\n",
       "4⋅m_W \n",
       "──────\n",
       "   2  \n",
       "  v   "
      ]
     },
     "execution_count": 116,
     "metadata": {},
     "output_type": "execute_result"
    }
   ],
   "source": [
    "r = L_k.collect([v**2*Z_μ**2,v**2*Wmas*Wmenos,Z_μ**2*h**2],evaluate=False)\n",
    "m_Z = symbols(r'm_Z',real=True)\n",
    "m_W = symbols(r'm_W',real=True)\n",
    "a = solve(Eq((r[v**2*Z_μ**2]).factor(),(S(1)/2)*m_Z**2/v**2),g_1**2 + g_2**2)[0]\n",
    "b = solve(Eq(r[v**2*Wmas*Wmenos],(S(1)/2)*m_W**2/v**2),g_1**2)[0]\n",
    "a\n",
    "b"
   ]
  },
  {
   "cell_type": "code",
   "execution_count": 92,
   "metadata": {
    "extensions": {
     "jupyter_dashboards": {
      "version": 1,
      "views": {
       "grid_default": {
        "col": 0,
        "height": 5,
        "hidden": false,
        "row": 133,
        "width": null
       },
       "report_default": {
        "hidden": false
       }
      }
     }
    }
   },
   "outputs": [
    {
     "data": {
      "image/png": "[encoded data removed]",
      "text/latex": [
       "$$\\frac{m_{Z}^{2}}{2 v^{2}}$$"
      ],
      "text/plain": [
       "   2\n",
       "m_Z \n",
       "────\n",
       "   2\n",
       "2⋅v "
      ]
     },
     "execution_count": 92,
     "metadata": {},
     "output_type": "execute_result"
    },
    {
     "data": {
      "image/png": "[encoded data removed]",
      "text/latex": [
       "$$\\frac{m_{W}^{2}}{2 v^{2}}$$"
      ],
      "text/plain": [
       "   2\n",
       "m_W \n",
       "────\n",
       "   2\n",
       "2⋅v "
      ]
     },
     "execution_count": 92,
     "metadata": {},
     "output_type": "execute_result"
    },
    {
     "ename": "KeyError",
     "evalue": "Z_μ**2*h**2",
     "output_type": "error",
     "traceback": [
      "\u001b[0;31m---------------------------------------------------------------------------\u001b[0m",
      "\u001b[0;31mKeyError\u001b[0m                                  Traceback (most recent call last)",
      "\u001b[0;32m<ipython-input-92-e849b13da0e2>\u001b[0m in \u001b[0;36m<module>\u001b[0;34m()\u001b[0m\n\u001b[1;32m      3\u001b[0m \u001b[0mr\u001b[0m\u001b[0;34m[\u001b[0m\u001b[0mv\u001b[0m\u001b[0;34m**\u001b[0m\u001b[0;36m2\u001b[0m\u001b[0;34m*\u001b[0m\u001b[0mWmas\u001b[0m\u001b[0;34m*\u001b[0m\u001b[0mWmenos\u001b[0m\u001b[0;34m]\u001b[0m \u001b[0;34m=\u001b[0m \u001b[0mr\u001b[0m\u001b[0;34m[\u001b[0m\u001b[0mv\u001b[0m\u001b[0;34m**\u001b[0m\u001b[0;36m2\u001b[0m\u001b[0;34m*\u001b[0m\u001b[0mWmas\u001b[0m\u001b[0;34m*\u001b[0m\u001b[0mWmenos\u001b[0m\u001b[0;34m]\u001b[0m\u001b[0;34m.\u001b[0m\u001b[0msubs\u001b[0m\u001b[0;34m(\u001b[0m\u001b[0;34m{\u001b[0m\u001b[0mg_1\u001b[0m\u001b[0;34m**\u001b[0m\u001b[0;36m2\u001b[0m\u001b[0;34m:\u001b[0m\u001b[0mb\u001b[0m\u001b[0;34m}\u001b[0m\u001b[0;34m)\u001b[0m\u001b[0;34m\u001b[0m\u001b[0m\n\u001b[1;32m      4\u001b[0m \u001b[0mr\u001b[0m\u001b[0;34m[\u001b[0m\u001b[0mv\u001b[0m\u001b[0;34m**\u001b[0m\u001b[0;36m2\u001b[0m\u001b[0;34m*\u001b[0m\u001b[0mWmas\u001b[0m\u001b[0;34m*\u001b[0m\u001b[0mWmenos\u001b[0m\u001b[0;34m]\u001b[0m\u001b[0;34m\u001b[0m\u001b[0m\n\u001b[0;32m----> 5\u001b[0;31m \u001b[0mr\u001b[0m\u001b[0;34m[\u001b[0m\u001b[0mZ_μ\u001b[0m\u001b[0;34m**\u001b[0m\u001b[0;36m2\u001b[0m\u001b[0;34m*\u001b[0m\u001b[0mh\u001b[0m\u001b[0;34m**\u001b[0m\u001b[0;36m2\u001b[0m\u001b[0;34m]\u001b[0m\u001b[0;34m\u001b[0m\u001b[0m\n\u001b[0m",
      "\u001b[0;31mKeyError\u001b[0m: Z_μ**2*h**2"
     ]
    }
   ],
   "source": [
    "r[v**2*Z_μ**2] = (r[v**2*Z_μ**2]).factor().subs({g_1**2 + g_2**2:a})\n",
    "r[v**2*Z_μ**2]\n",
    "r[v**2*Wmas*Wmenos] = r[v**2*Wmas*Wmenos].subs({g_1**2:b})\n",
    "r[v**2*Wmas*Wmenos]\n",
    "r[Z_μ**2*h**2]"
   ]
  },
  {
   "cell_type": "code",
   "execution_count": 84,
   "metadata": {
    "extensions": {
     "jupyter_dashboards": {
      "version": 1,
      "views": {
       "grid_default": {
        "col": 0,
        "height": 4,
        "hidden": false,
        "row": 138,
        "width": null
       },
       "report_default": {
        "hidden": false
       }
      }
     }
    }
   },
   "outputs": [
    {
     "data": {
      "image/png": "[encoded data removed]",
      "text/latex": [
       "$$\\frac{g_{1}^{2} v}{4} h W^{+} W^{-} + \\frac{g_{1}^{2} h}{8} W^{+} W^{-} h + \\frac{m_{W}^{2} W^{+}}{2} W^{-} + \\frac{m_{Z}^{2} Z_{μ}^{2}}{2} + \\frac{v h}{4} \\left(g_{1}^{2} + g_{2}^{2}\\right) Z_{μ}^{2} + \\left(\\frac{g_{1}^{2}}{8} + \\frac{g_{2}^{2}}{8}\\right) Z_{μ}^{2} h^{2} + \\frac{\\partial_{μ} h^{2}}{2}$$"
      ],
      "text/plain": [
       "  2                       2                        2                    2    2\n",
       "g₁ ⋅v⋅h⋅W__{+}⋅W__{-}   g₁ ⋅h⋅W__{+}⋅W__{-}⋅h   m_W ⋅W__{+}⋅W__{-}   m_Z ⋅Z_μ \n",
       "───────────────────── + ───────────────────── + ────────────────── + ─────────\n",
       "          4                       8                     2                2    \n",
       "\n",
       "     ⎛  2     2⎞      2   ⎛  2     2⎞                         2\n",
       "   v⋅⎝g₁  + g₂ ⎠⋅h⋅Z_μ    ⎜g₁    g₂ ⎟    2  2   \\partial_{μ} h \n",
       " + ──────────────────── + ⎜─── + ───⎟⋅Z_μ ⋅h  + ───────────────\n",
       "            4             ⎝ 8     8 ⎠                  2       "
      ]
     },
     "execution_count": 84,
     "metadata": {},
     "output_type": "execute_result"
    }
   ],
   "source": [
    "lista = list(dict.keys(r))\n",
    "L_k = Add(*[r[i]*i for i in lista])\n",
    "L_k"
   ]
  },
  {
   "cell_type": "code",
   "execution_count": 85,
   "metadata": {
    "extensions": {
     "jupyter_dashboards": {
      "version": 1,
      "views": {
       "grid_default": {
        "col": 0,
        "height": 4,
        "hidden": false,
        "row": 142,
        "width": null
       },
       "report_default": {
        "hidden": false
       }
      }
     }
    }
   },
   "outputs": [
    {
     "data": {
      "image/png": "[encoded data removed]",
      "text/latex": [
       "$$\\frac{g_{1}^{2} v}{4} h W^{+} W^{-} + \\frac{g_{1}^{2} h}{8} W^{+} W^{-} h + \\frac{m_{W}^{2} W^{+}}{2} W^{-} + \\frac{m_{Z}^{2} Z_{μ}^{2}}{2} + \\frac{m_{Z}^{2} h}{v} Z_{μ}^{2} + \\left(\\frac{g_{1}^{2}}{8} + \\frac{g_{2}^{2}}{8}\\right) Z_{μ}^{2} h^{2} + \\frac{\\partial_{μ} h^{2}}{2}$$"
      ],
      "text/plain": [
       "  2                       2                        2                    2    2\n",
       "g₁ ⋅v⋅h⋅W__{+}⋅W__{-}   g₁ ⋅h⋅W__{+}⋅W__{-}⋅h   m_W ⋅W__{+}⋅W__{-}   m_Z ⋅Z_μ \n",
       "───────────────────── + ───────────────────── + ────────────────── + ─────────\n",
       "          4                       8                     2                2    \n",
       "\n",
       "      2      2   ⎛  2     2⎞                         2\n",
       "   m_Z ⋅h⋅Z_μ    ⎜g₁    g₂ ⎟    2  2   \\partial_{μ} h \n",
       " + ─────────── + ⎜─── + ───⎟⋅Z_μ ⋅h  + ───────────────\n",
       "        v        ⎝ 8     8 ⎠                  2       "
      ]
     },
     "execution_count": 85,
     "metadata": {},
     "output_type": "execute_result"
    }
   ],
   "source": [
    "L_k.subs({g_1**2 + g_2**2:a})"
   ]
  },
  {
   "cell_type": "code",
   "execution_count": 48,
   "metadata": {
    "extensions": {
     "jupyter_dashboards": {
      "version": 1,
      "views": {
       "grid_default": {
        "col": 0,
        "height": 11,
        "hidden": false,
        "row": 146,
        "width": null
       },
       "report_default": {
        "hidden": false
       }
      }
     }
    }
   },
   "outputs": [
    {
     "data": {
      "image/png": "[encoded data removed]",
      "text/latex": [
       "$$\\left[\\begin{matrix}\\frac{1}{2} & \\partial_{μ} h^{2}\\\\\\frac{g_{1}^{2}}{8} + \\frac{g_{2}^{2}}{8} & Z_{μ}^{2} h^{2}\\\\\\frac{v^{2}}{8} \\left(g_{1}^{2} + g_{2}^{2}\\right) & Z_{μ}^{2}\\\\\\frac{v}{4} \\left(g_{1}^{2} + g_{2}^{2}\\right) & Z_{μ}^{2} h\\\\\\frac{g_{1}^{2} v^{2}}{8} & W^{+} W^{-}\\\\\\frac{g_{1}^{2} v}{8} & h W^{+} W^{-}\\\\\\frac{g_{1}^{2} v}{8} & W^{+} W^{-} h\\\\\\frac{g_{1}^{2}}{8} & h W^{+} W^{-} h\\end{matrix}\\right]$$"
      ],
      "text/plain": [
       "⎡                               2 ⎤\n",
       "⎢     1/2         \\partial_{μ} h  ⎥\n",
       "⎢                                 ⎥\n",
       "⎢    2     2                      ⎥\n",
       "⎢  g₁    g₂              2  2     ⎥\n",
       "⎢  ─── + ───          Z_μ ⋅h      ⎥\n",
       "⎢   8     8                       ⎥\n",
       "⎢                                 ⎥\n",
       "⎢ 2 ⎛  2     2⎞                   ⎥\n",
       "⎢v ⋅⎝g₁  + g₂ ⎠           2       ⎥\n",
       "⎢──────────────        Z_μ        ⎥\n",
       "⎢      8                          ⎥\n",
       "⎢                                 ⎥\n",
       "⎢  ⎛  2     2⎞                    ⎥\n",
       "⎢v⋅⎝g₁  + g₂ ⎠           2        ⎥\n",
       "⎢─────────────        Z_μ ⋅h      ⎥\n",
       "⎢      4                          ⎥\n",
       "⎢                                 ⎥\n",
       "⎢      2  2                       ⎥\n",
       "⎢    g₁ ⋅v                        ⎥\n",
       "⎢    ──────        W__{+}⋅W__{-}  ⎥\n",
       "⎢      8                          ⎥\n",
       "⎢                                 ⎥\n",
       "⎢      2                          ⎥\n",
       "⎢    g₁ ⋅v                        ⎥\n",
       "⎢    ─────        h⋅W__{+}⋅W__{-} ⎥\n",
       "⎢      8                          ⎥\n",
       "⎢                                 ⎥\n",
       "⎢      2                          ⎥\n",
       "⎢    g₁ ⋅v                        ⎥\n",
       "⎢    ─────        W__{+}⋅W__{-}⋅h ⎥\n",
       "⎢      8                          ⎥\n",
       "⎢                                 ⎥\n",
       "⎢       2                         ⎥\n",
       "⎢     g₁                          ⎥\n",
       "⎢     ───        h⋅W__{+}⋅W__{-}⋅h⎥\n",
       "⎣      8                          ⎦"
      ]
     },
     "execution_count": 48,
     "metadata": {},
     "output_type": "execute_result"
    }
   ],
   "source": [
    "Matrix(lista_campos_acoplamientos(L_k))"
   ]
  },
  {
   "cell_type": "markdown",
   "metadata": {
    "extensions": {
     "jupyter_dashboards": {
      "version": 1,
      "views": {
       "grid_default": {
        "col": 0,
        "height": 4,
        "hidden": false,
        "row": 157,
        "width": null
       },
       "report_default": {
        "hidden": false
       }
      }
     }
    }
   },
   "source": [
    "Finalmente podemos reescribir la derivada covariante en términos de los campos físicos $W^{\\pm}$, $A_{\\mu}$ y  $Z_{\\mu}$"
   ]
  },
  {
   "cell_type": "code",
   "execution_count": 54,
   "metadata": {
    "extensions": {
     "jupyter_dashboards": {
      "version": 1,
      "views": {
       "grid_default": {
        "col": 0,
        "height": 4,
        "hidden": false,
        "row": 161,
        "width": null
       },
       "report_default": {
        "hidden": false
       }
      }
     }
    }
   },
   "outputs": [
    {
     "data": {
      "image/png": "[encoded data removed]",
      "text/latex": [
       "$$\\left[\\begin{matrix}- \\frac{i g_{1}}{4} \\sqrt{2} W^{-} \\left(v + h\\right)\\\\\\frac{\\sqrt{2}}{4} \\left(i \\sqrt{g_{1}^{2} + g_{2}^{2}} Z_{μ} \\left(v + h\\right) + 2 \\partial_{μ} h\\right)\\end{matrix}\\right]$$"
      ],
      "text/plain": [
       "⎡              -√2⋅ⅈ⋅g₁⋅W__{-}⋅(v + h)               ⎤\n",
       "⎢              ────────────────────────              ⎥\n",
       "⎢                         4                          ⎥\n",
       "⎢                                                    ⎥\n",
       "⎢   ⎛     ___________                               ⎞⎥\n",
       "⎢   ⎜    ╱   2     2                                ⎟⎥\n",
       "⎢√2⋅⎝ⅈ⋅╲╱  g₁  + g₂  ⋅Z_μ⋅(v + h) + 2⋅\\partial_{μ} h⎠⎥\n",
       "⎢────────────────────────────────────────────────────⎥\n",
       "⎣                         4                          ⎦"
      ]
     },
     "execution_count": 54,
     "metadata": {},
     "output_type": "execute_result"
    }
   ],
   "source": [
    "D_μϕ = D_μϕ.subs(Wsubs).subs(ZAsubs)\n",
    "D_μϕ"
   ]
  },
  {
   "cell_type": "code",
   "execution_count": 70,
   "metadata": {
    "extensions": {
     "jupyter_dashboards": {
      "version": 1,
      "views": {
       "grid_default": {
        "col": 0,
        "height": 4,
        "hidden": false,
        "row": 165,
        "width": null
       },
       "report_default": {
        "hidden": false
       }
      }
     }
    }
   },
   "outputs": [
    {
     "data": {
      "image/png": "[encoded data removed]",
      "text/latex": [
       "$$\\left[\\begin{matrix}\\frac{i g_{1}}{4} \\sqrt{2} W^{+} \\left(v + h\\right) & \\frac{\\sqrt{2}}{4} \\left(- i \\sqrt{g_{1}^{2} + g_{2}^{2}} \\overline{Z_{μ}} \\left(v + h\\right) + 2 \\partial_{μ} h\\right)\\end{matrix}\\right]$$"
      ],
      "text/plain": [
       "⎡                           ⎛       ___________                               \n",
       "⎢                           ⎜      ╱   2     2  ___                           \n",
       "⎢√2⋅ⅈ⋅g₁⋅W__{+}⋅(v + h)  √2⋅⎝- ⅈ⋅╲╱  g₁  + g₂  ⋅Z_μ⋅(v + h) + 2⋅\\partial_{μ} h\n",
       "⎢──────────────────────  ─────────────────────────────────────────────────────\n",
       "⎣          4                                       4                          \n",
       "\n",
       "⎞⎤\n",
       "⎟⎥\n",
       "⎠⎥\n",
       "─⎥\n",
       " ⎦"
      ]
     },
     "execution_count": 70,
     "metadata": {},
     "output_type": "execute_result"
    }
   ],
   "source": [
    "#(Matrix([Dagger(D_μϕ[0]), Dagger(D_μϕ[1])]).T)#.subs({conjugate(δ_μh):δ_μh,conjugate(h):h})\n",
    "Dagger(Matrix([D_μϕ[0],D_μϕ[1]])).subs({conjugate(δ_μh):δ_μh,conjugate(h):h,\\\n",
    "                                        conjugate(Wmenos):Wmas})\n"
   ]
  },
  {
   "cell_type": "markdown",
   "metadata": {
    "extensions": {
     "jupyter_dashboards": {
      "version": 1,
      "views": {
       "grid_default": {
        "col": 0,
        "height": 4,
        "hidden": false,
        "row": 83,
        "width": 4
       },
       "report_default": {
        "hidden": false
       }
      }
     }
    }
   },
   "source": [
    "## Sector fermiónico"
   ]
  },
  {
   "cell_type": "markdown",
   "metadata": {
    "extensions": {
     "jupyter_dashboards": {
      "version": 1,
      "views": {
       "grid_default": {
        "col": 0,
        "height": 15,
        "hidden": false,
        "row": 169,
        "width": null
       },
       "report_default": {
        "hidden": false
       }
      }
     }
    }
   },
   "source": [
    "Para construir el Lagrangiano correspondiente a fermiones, \n",
    "tenemos que considerar lagrangiano de Dirac el cual tiene la forma:\n",
    "\n",
    "\\begin{equation}\\label{eq:Dirac-lagrangiano}\n",
    "\\mathcal{L}_{D} = \\overline{\\psi}(i\\gamma^{\\mu} \\partial_{\\mu} -m)\\psi\n",
    "\\end{equation}\n",
    "\n",
    "donde $\\overline{\\psi} = \\psi^{\\dagger}\\gamma^{0}$. Sin embargo, al considerar los campos fermionicos en términos de los campos de quiralidad izquierda y derecha $\\psi = \\psi_L + \\psi_R$, entonces \\ref{eq:Dirac-lagrangiano} toma la forma:\n",
    "\n",
    "\\begin{equation}\\label{eq:DiracLR}\n",
    "\\mathcal{L}_{D} = \\overline{\\Psi_R}i\\gamma^{\\mu} \\partial_{\\mu}\\Psi_R + \\overline{\\Psi_L}i\\gamma^{\\mu} \\partial_{\\mu}\\Psi_L -m(\\overline{\\Psi_R}\\Psi_{L} + \\overline{\\Psi_L}\\Psi_{R})\n",
    "\\end{equation}\n",
    "\n",
    "Sin embargo la introducción de la simetría gauge, impone la introducción de la derivada covariante:\n",
    "\n",
    "$$\\partial_{\\mu} \\rightarrow  D_{\\mu}.$$\n",
    "\n",
    "Este cambio depende de la quiralidad que se consideré entonces tenemos que \n",
    "\n",
    "\\begin{equation}\\label{eq:DmuR}\n",
    "D_{\\mu}\\Psi_R = \\partial_{\\mu}\\Psi_R - \\frac{i}{2} g_2 Y B_{\\mu} \\psi_R\n",
    "\\end{equation}\n",
    "\n",
    "\\begin{equation}\\label{eq:DmuL}\n",
    "D_{\\mu}\\Psi_L = \\partial_{\\mu}\\Psi_L - \\frac{i}{2} g_2 Y B_{\\mu}\\Psi_L - i g_1 I \\tau \\cdot W_{\\mu}\\Psi_L\n",
    "\\end{equation}\n",
    "\n",
    "\n",
    "Así en el Modelo Estándar, consideraremos para cada fermión un lagrangiano analógo a la ec. \\ref{eq:DiracLR}. Comenzaremos construyendo el termino cinético.\n"
   ]
  },
  {
   "cell_type": "markdown",
   "metadata": {
    "extensions": {
     "jupyter_dashboards": {
      "version": 1,
      "views": {
       "grid_default": {
        "col": 0,
        "height": 4,
        "hidden": false,
        "row": 184,
        "width": 4
       },
       "report_default": {
        "hidden": false
       }
      }
     }
    }
   },
   "source": [
    "### Término cinético para leptones"
   ]
  },
  {
   "cell_type": "markdown",
   "metadata": {
    "extensions": {
     "jupyter_dashboards": {
      "version": 1,
      "views": {
       "grid_default": {
        "col": 4,
        "height": 4,
        "hidden": false,
        "row": 184,
        "width": null
       },
       "report_default": {
        "hidden": false
       }
      }
     }
    }
   },
   "source": [
    "#### Prueba 1\n",
    "$x^{2}$"
   ]
  },
  {
   "cell_type": "markdown",
   "metadata": {
    "extensions": {
     "jupyter_dashboards": {
      "version": 1,
      "views": {
       "grid_default": {
        "col": 0,
        "height": 10,
        "hidden": false,
        "row": 188,
        "width": null
       },
       "report_default": {
        "hidden": false
       }
      }
     }
    }
   },
   "source": [
    "Para simplificar esta parte, consideraremos la primer familia leptónica $\\nu_e$ y $e$ ya que las otras dos familias  son basicamente idénticas. \n",
    "\n",
    "Cuando consideramos la primer familia, tenemos que recordar que en el Modelo estandar no tenemos neutrinos derechos. Entonces el término cinético que consideraremos es:\n",
    "\n",
    "\\begin{equation}\\label{eq:term-cinetico-enu}\n",
    "i \\overline{e_R}\\gamma^{\\mu} D_{\\mu}e_R + i\\overline{\\Psi_L}\\gamma^{\\mu} D_{\\mu}\\Psi_L\n",
    "\\end{equation}\n",
    "\n",
    "\n",
    "donde $\\Psi_L = (\\nu_{e_L},e_L)^{\\top}$. En este caso, usando las ecs. (\\ref{eq:DmuR}), (\\ref{eq:DmuL}) y usando la hypercarga e isoespin correspondientes en la tabla 1, tenemos \n",
    "\n",
    "$$D_{\\mu}e_R = \\partial_{\\mu}e_{R} + i g_2 B_{\\mu} e_{R}$$\n",
    "$$D_{\\mu}\\Psi_L = \\partial_{\\mu}\\Psi_L + \\frac{i}{2} g_2 B_{\\mu}\\Psi_L - \\frac{i}{2} g_1 \\tau \\cdot W_{\\mu}\\Psi_L  $$\n",
    "\n",
    "Iniciamos definiendo a los campos en sympy de la siguiente manera:\n",
    "$\\Psi_L \\rightarrow \\Psi$_L \n",
    "$\\overline{\\Psi_L} \\rightarrow \\Psi$_Lb\n",
    "$e_R \\rightarrow e$_R \n",
    "$\\overline{e_R} \\rightarrow \\Psi$_Rb\n"
   ]
  },
  {
   "cell_type": "code",
   "execution_count": 26,
   "metadata": {
    "extensions": {
     "jupyter_dashboards": {
      "version": 1,
      "views": {
       "grid_default": {
        "col": 0,
        "height": 4,
        "hidden": false,
        "row": 198,
        "width": null
       },
       "report_default": {
        "hidden": false
       }
      }
     }
    }
   },
   "outputs": [
    {
     "data": {
      "image/png": "[encoded data removed]",
      "text/latex": [
       "$$\\left ( \\left[\\begin{matrix}\\overline{ν_{e_{L}}} & \\overline{e_{L}}\\end{matrix}\\right], \\quad \\left[\\begin{matrix}ν_{e_{L}}\\\\e_{L}\\end{matrix}\\right], \\quad ν_{e_{R}}, \\quad e_{R}, \\quad \\overline{ν_{e_{R}}}, \\quad \\overline{e_{R}}, \\quad \\left[\\begin{matrix}\\overline{ν_{e_{L}}} \\gamma^{\\mu} & \\overline{e_{L}} \\gamma^{\\mu}\\end{matrix}\\right]\\right )$$"
      ],
      "text/plain": [
       "⎛[\\overline{ν_{e_{L}}}  \\overline{e_{L}}], ⎡ν_{e_{L}}⎤, ν_{e_{R}}, e_{R}, \\ove\n",
       "⎜                                          ⎢         ⎥                        \n",
       "⎝                                          ⎣  e_{L}  ⎦                        \n",
       "\n",
       "rline{ν_{e_{R}}}, \\overline{e_{R}}, [\\overline{ν_{e_{L}}}⋅\\gamma__{\\mu}  \\over\n",
       "                                                                              \n",
       "                                                                              \n",
       "\n",
       "line{e_{L}}⋅\\gamma__{\\mu}]⎞\n",
       "                          ⎟\n",
       "                          ⎠"
      ]
     },
     "execution_count": 26,
     "metadata": {},
     "output_type": "execute_result"
    }
   ],
   "source": [
    "#Campos izquierdos\n",
    "ν_eL = Operator(r'ν_{e_{L}}')\n",
    "eL = Operator(r'e_{L}')\n",
    "#Adjuntos de campos izquierdos\n",
    "ν_eLb = Operator(r'\\overline{ν_{e_{L}}}')\n",
    "eLb = Operator(r'\\overline{e_{L}}')\n",
    "#Campos derechos\n",
    "ν_eR = Operator(r'ν_{e_{R}}')\n",
    "eR = Operator(r'e_{R}')\n",
    "#Adjuntos de campos derechos\n",
    "ν_eRb = Operator(r'\\overline{ν_{e_{R}}}')\n",
    "eRb = Operator(r'\\overline{e_{R}}')\n",
    "#Definimos Ψ_L y su adjunto conjugado\n",
    "Ψ_L = Matrix([ν_eL,eL])\n",
    "Ψ_Lb = Matrix([ν_eLb,eLb]).T\n",
    "# simbolo matriz γmu\n",
    "γmu = Operator(r'\\gamma^{\\mu}')\n",
    "Ψ_Lb,Ψ_L,ν_eR,eR,ν_eRb ,eRb,Ψ_Lb*γmu"
   ]
  },
  {
   "cell_type": "markdown",
   "metadata": {
    "extensions": {
     "jupyter_dashboards": {
      "version": 1,
      "views": {
       "grid_default": {
        "col": 0,
        "height": 14,
        "hidden": false,
        "row": 202,
        "width": 12
       },
       "report_default": {
        "hidden": false
       }
      }
     }
    }
   },
   "source": [
    "Para futuras simplificaciones creamos a continuación los diccionarios siguientes:\n",
    " - campoL: contiene los campos de quiralidad izquierda.\n",
    " - campoR: contiene los campos de quiralidad derecha.\n",
    " - campo_adjuntoL: contiene los campos adjuntos de quiralidad izquierda\n",
    " - campo_adjuntoR: contiene los campos adjuntos de quiralidad derecha\n",
    "\n",
    "***\n",
    "**Nota: Agregando un elemento a un diccionario**\n",
    "Para agregar otro campo \\rho_L, por ejemplo, a alguno de los diccionarios anteriores, tenemos que realizar los siguientes pasos:\n",
    " - Definir el simbólo como un operador \\rho_L, por ejemplo, de la siguiente manera `\\rho_L = Operator(r'\\rho_L')`.\n",
    " - Si el nombre de la particula es por ejemplo \"nueva particula\", entonces en este caso lo agregariamos al diccionario `campoL` haciendo lo siguiente: `campoL['nueva particula'] = \\rho_L`.\n",
    " - Si la \"nueva particula\" asociada al campo \\rho tiene quiralidad izquierda se debe agregar usando los pasos anteriores, de la siguiente manera:\n",
    "  * `\\rho_R = Operator(r'\\rho_R')` \n",
    "  * `campoR['nueva particula'] = \\rho_R`\n",
    "***\n"
   ]
  },
  {
   "cell_type": "code",
   "execution_count": 27,
   "metadata": {
    "extensions": {
     "jupyter_dashboards": {
      "version": 1,
      "views": {
       "grid_default": {
        "col": 0,
        "height": 6,
        "hidden": false,
        "row": 216,
        "width": 4
       },
       "report_default": {
        "hidden": false
       }
      }
     }
    }
   },
   "outputs": [
    {
     "data": {
      "text/plain": [
       "{'electrón': e_{L}, 'neutrino': ν_{e_{L}}}"
      ]
     },
     "metadata": {},
     "output_type": "display_data"
    },
    {
     "data": {
      "text/plain": [
       "{'electrón': e_{R}, 'neutrino': ν_{e_{R}}}"
      ]
     },
     "metadata": {},
     "output_type": "display_data"
    },
    {
     "data": {
      "text/plain": [
       "{'electrón': \\overline{e_{L}}, 'neutrino': \\overline{ν_{e_{L}}}}"
      ]
     },
     "metadata": {},
     "output_type": "display_data"
    },
    {
     "data": {
      "text/plain": [
       "{'electrón': \\overline{e_{R}}, 'neutrino': \\overline{ν_{e_{R}}}}"
      ]
     },
     "metadata": {},
     "output_type": "display_data"
    }
   ],
   "source": [
    "campoL = {'electrón':eL,'neutrino':ν_eL}\n",
    "campoR = {'electrón':eR,'neutrino':ν_eR} \n",
    "campo_adjuntoL = {'electrón':eLb,'neutrino':ν_eLb}\n",
    "campo_adjuntoR = {'electrón':eRb,'neutrino':ν_eRb} \n",
    "#Ejemplos\n",
    "display(campoL,campoR,campo_adjuntoL,campo_adjuntoR)"
   ]
  },
  {
   "cell_type": "markdown",
   "metadata": {
    "extensions": {
     "jupyter_dashboards": {
      "version": 1,
      "views": {
       "grid_default": {
        "col": 4,
        "height": 4,
        "hidden": false,
        "row": 216,
        "width": null
       },
       "report_default": {
        "hidden": false
       }
      }
     }
    }
   },
   "source": [
    "Ahora definimos la derivada covariante aplicada a $e_R$"
   ]
  },
  {
   "cell_type": "code",
   "execution_count": 28,
   "metadata": {
    "extensions": {
     "jupyter_dashboards": {
      "version": 1,
      "views": {
       "grid_default": {
        "col": 4,
        "height": 4,
        "hidden": false,
        "row": 220,
        "width": null
       },
       "report_default": {
        "hidden": false
       }
      }
     }
    }
   },
   "outputs": [
    {
     "data": {
      "image/png": "[encoded data removed]",
      "text/latex": [
       "$$i g_{2} B_{μ} e_{R} + \\partial_{μ} e_{R}$$"
      ],
      "text/plain": [
       "ⅈ⋅g₂⋅B_{μ}⋅e_{R} + \\partial_{μ} e_{R}"
      ]
     },
     "execution_count": 28,
     "metadata": {},
     "output_type": "execute_result"
    }
   ],
   "source": [
    "# Derivada del campo derecho\n",
    "δ_μeR = Operator(r'\\partial_{μ} e_{R}')\n",
    "# Derivada covariante aplicada al campo e_R\n",
    "D_μeR = δ_μeR + I*g_2*B_μ*eR\n",
    "D_μeR"
   ]
  },
  {
   "cell_type": "markdown",
   "metadata": {
    "extensions": {
     "jupyter_dashboards": {
      "version": 1,
      "views": {
       "grid_default": {
        "col": 0,
        "height": 4,
        "hidden": false,
        "row": 224,
        "width": null
       },
       "report_default": {
        "hidden": false
       }
      }
     }
    }
   },
   "source": [
    "Para construir la derivada covariante aplicada a $\\Psi_L$, realizemos las siguientes definiciones:"
   ]
  },
  {
   "cell_type": "code",
   "execution_count": 29,
   "metadata": {
    "extensions": {
     "jupyter_dashboards": {
      "version": 1,
      "views": {
       "grid_default": {
        "col": 0,
        "height": 4,
        "hidden": false,
        "row": 228,
        "width": null
       },
       "report_default": {
        "hidden": false
       }
      }
     }
    }
   },
   "outputs": [
    {
     "data": {
      "image/png": "[encoded data removed]",
      "text/latex": [
       "$$\\left ( \\partial_{μ} ν_{e_L}, \\quad \\partial_{μ} e_L, \\quad \\left[\\begin{matrix}\\partial_{μ} ν_{e_L}\\\\\\partial_{μ} e_L\\end{matrix}\\right]\\right )$$"
      ],
      "text/plain": [
       "⎛\\partial_{μ} ν_{e_L}, \\partial_{μ} e_L, ⎡\\partial_{μ} ν_{e_L}⎤⎞\n",
       "⎜                                        ⎢                    ⎥⎟\n",
       "⎝                                        ⎣  \\partial_{μ} e_L  ⎦⎠"
      ]
     },
     "execution_count": 29,
     "metadata": {},
     "output_type": "execute_result"
    }
   ],
   "source": [
    "# Simbolos de las derivadas de los campos izquierdos.\n",
    "δ_μeL = Operator(r'\\partial_{μ} e_L')\n",
    "δ_μν_eL = Operator(r'\\partial_{μ} ν_{e_L}')\n",
    "# Simbolo de la deriva del campo Ψ_L\n",
    "Δ_Ψ_L = Matrix([δ_μν_eL,δ_μeL])\n",
    "δ_μν_eL,δ_μeL,Δ_Ψ_L"
   ]
  },
  {
   "cell_type": "markdown",
   "metadata": {
    "extensions": {
     "jupyter_dashboards": {
      "version": 1,
      "views": {
       "grid_default": {
        "col": 0,
        "height": 4,
        "hidden": false,
        "row": 232,
        "width": 4
       },
       "report_default": {
        "hidden": false
       }
      }
     }
    }
   },
   "source": [
    "además, recordemos nuestras definiciones anteriores:"
   ]
  },
  {
   "cell_type": "code",
   "execution_count": 30,
   "metadata": {
    "extensions": {
     "jupyter_dashboards": {
      "version": 1,
      "views": {
       "grid_default": {
        "col": 4,
        "height": 4,
        "hidden": false,
        "row": 232,
        "width": null
       },
       "report_default": {
        "hidden": false
       }
      }
     }
    }
   },
   "outputs": [
    {
     "data": {
      "image/png": "[encoded data removed]",
      "text/latex": [
       "$$\\left ( \\left[\\begin{matrix}B_{μ} & 0\\\\0 & B_{μ}\\end{matrix}\\right], \\quad \\left[\\begin{matrix}W_{μ}^{3} & W_{μ}^{1} - i W_{μ}^{2}\\\\W_{μ}^{1} + i W_{μ}^{2} & - W_{μ}^{3}\\end{matrix}\\right]\\right )$$"
      ],
      "text/plain": [
       "⎛⎡B_{μ}    0  ⎤, ⎡       W_{μ}__{3}          W_{μ}__{1} - ⅈ⋅W_{μ}__{2}⎤⎞\n",
       "⎜⎢            ⎥  ⎢                                                    ⎥⎟\n",
       "⎝⎣  0    B_{μ}⎦  ⎣W_{μ}__{1} + ⅈ⋅W_{μ}__{2}         -W_{μ}__{3}       ⎦⎠"
      ]
     },
     "execution_count": 30,
     "metadata": {},
     "output_type": "execute_result"
    }
   ],
   "source": [
    "b_μ,τW"
   ]
  },
  {
   "cell_type": "markdown",
   "metadata": {
    "extensions": {
     "jupyter_dashboards": {
      "version": 1,
      "views": {
       "grid_default": {
        "col": 0,
        "height": 4,
        "hidden": false,
        "row": 236,
        "width": null
       },
       "report_default": {
        "hidden": false
       }
      }
     }
    }
   },
   "source": [
    "Entonces, la derivada covariante aplicada a $\\Psi_L$"
   ]
  },
  {
   "cell_type": "code",
   "execution_count": 31,
   "metadata": {
    "extensions": {
     "jupyter_dashboards": {
      "version": 1,
      "views": {
       "grid_default": {
        "col": 0,
        "height": 4,
        "hidden": false,
        "row": 240,
        "width": null
       },
       "report_default": {
        "hidden": false
       }
      }
     }
    },
    "run_control": {
     "marked": false
    }
   },
   "outputs": [
    {
     "data": {
      "image/png": "[encoded data removed]",
      "text/latex": [
       "$$\\left[\\begin{matrix}\\frac{i g_{2}}{2} B_{μ} ν_{e_{L}} - \\frac{i g_{1}}{2} \\left(W_{μ}^{1} - i W_{μ}^{2}\\right) e_{L} + \\frac{i g_{1}}{2} W_{μ}^{3} ν_{e_{L}} + \\partial_{μ} ν_{e_L}\\\\\\frac{i g_{2}}{2} B_{μ} e_{L} - \\frac{i g_{1}}{2} \\left(W_{μ}^{1} + i W_{μ}^{2}\\right) ν_{e_{L}} - \\frac{i g_{1}}{2} W_{μ}^{3} e_{L} + \\partial_{μ} e_L\\end{matrix}\\right]$$"
      ],
      "text/plain": [
       "⎡ⅈ⋅g₂⋅B_{μ}⋅ν_{e_{L}}   ⅈ⋅g₁⋅(W_{μ}__{1} - ⅈ⋅W_{μ}__{2})⋅e_{L}   ⅈ⋅g₁⋅W_{μ}__{\n",
       "⎢──────────────────── - ────────────────────────────────────── + ─────────────\n",
       "⎢         2                               2                                  2\n",
       "⎢                                                                             \n",
       "⎢    ⅈ⋅g₂⋅B_{μ}⋅e_{L}   ⅈ⋅g₁⋅(W_{μ}__{1} + ⅈ⋅W_{μ}__{2})⋅ν_{e_{L}}   ⅈ⋅g₁⋅W_{μ\n",
       "⎢    ──────────────── - ────────────────────────────────────────── - ─────────\n",
       "⎣           2                               2                                 \n",
       "\n",
       "3}⋅ν_{e_{L}}                       ⎤\n",
       "──────────── + \\partial_{μ} ν_{e_L}⎥\n",
       "                                   ⎥\n",
       "                                   ⎥\n",
       "}__{3}⋅e_{L}                       ⎥\n",
       "──────────── + \\partial_{μ} e_L    ⎥\n",
       " 2                                 ⎦"
      ]
     },
     "execution_count": 31,
     "metadata": {},
     "output_type": "execute_result"
    }
   ],
   "source": [
    "D_μΨ_L = Δ_Ψ_L+ (I/2)*g_2*b_μ*Ψ_L-(I/2)*g_1*τW*Ψ_L\n",
    "Ψ_Lb\n",
    "D_μΨ_L"
   ]
  },
  {
   "cell_type": "markdown",
   "metadata": {
    "extensions": {
     "jupyter_dashboards": {
      "version": 1,
      "views": {
       "grid_default": {
        "col": 0,
        "height": 4,
        "hidden": false,
        "row": 244,
        "width": null
       },
       "report_default": {
        "hidden": false
       }
      }
     }
    }
   },
   "source": [
    "Entonces, termino cinético para la primer familia de leptónes en la ec. (\\ref{eq:term-cinetico-enu}), toma la forma:"
   ]
  },
  {
   "cell_type": "code",
   "execution_count": 32,
   "metadata": {
    "extensions": {
     "jupyter_dashboards": {
      "version": 1,
      "views": {
       "grid_default": {
        "col": 0,
        "height": 5,
        "hidden": false,
        "row": 248,
        "width": null
       },
       "report_default": {
        "hidden": false
       }
      }
     }
    },
    "run_control": {
     "marked": false
    },
    "scrolled": true
   },
   "outputs": [
    {
     "data": {
      "image/png": "[encoded data removed]",
      "text/latex": [
       "$$\\overline{e_{L}} \\gamma^{\\mu} \\left(\\frac{i g_{2}}{2} B_{μ} e_{L} - \\frac{i g_{1}}{2} \\left(W_{μ}^{1} + i W_{μ}^{2}\\right) ν_{e_{L}} - \\frac{i g_{1}}{2} W_{μ}^{3} e_{L} + \\partial_{μ} e_L\\right) + \\overline{e_{R}} \\gamma^{\\mu} \\left(i g_{2} B_{μ} e_{R} + \\partial_{μ} e_{R}\\right) + \\overline{ν_{e_{L}}} \\gamma^{\\mu} \\left(\\frac{i g_{2}}{2} B_{μ} ν_{e_{L}} - \\frac{i g_{1}}{2} \\left(W_{μ}^{1} - i W_{μ}^{2}\\right) e_{L} + \\frac{i g_{1}}{2} W_{μ}^{3} ν_{e_{L}} + \\partial_{μ} ν_{e_L}\\right)$$"
      ],
      "text/plain": [
       "                               ⎛ⅈ⋅g₂⋅B_{μ}⋅e_{L}   ⅈ⋅g₁⋅(W_{μ}__{1} + ⅈ⋅W_{μ}_\n",
       "\\overline{e_{L}}⋅\\gamma__{\\mu}⋅⎜──────────────── - ───────────────────────────\n",
       "                               ⎝       2                               2      \n",
       "\n",
       "_{2})⋅ν_{e_{L}}   ⅈ⋅g₁⋅W_{μ}__{3}⋅e_{L}                   ⎞                   \n",
       "─────────────── - ───────────────────── + \\partial_{μ} e_L⎟ + \\overline{e_{R}}\n",
       "                            2                             ⎠                   \n",
       "\n",
       "                                                                              \n",
       "⋅\\gamma__{\\mu}⋅(ⅈ⋅g₂⋅B_{μ}⋅e_{R} + \\partial_{μ} e_{R}) + \\overline{ν_{e_{L}}}⋅\n",
       "                                                                              \n",
       "\n",
       "              ⎛ⅈ⋅g₂⋅B_{μ}⋅ν_{e_{L}}   ⅈ⋅g₁⋅(W_{μ}__{1} - ⅈ⋅W_{μ}__{2})⋅e_{L}  \n",
       "\\gamma__{\\mu}⋅⎜──────────────────── - ────────────────────────────────────── +\n",
       "              ⎝         2                               2                     \n",
       "\n",
       " ⅈ⋅g₁⋅W_{μ}__{3}⋅ν_{e_{L}}                       ⎞\n",
       " ───────────────────────── + \\partial_{μ} ν_{e_L}⎟\n",
       "             2                                   ⎠"
      ]
     },
     "execution_count": 32,
     "metadata": {},
     "output_type": "execute_result"
    }
   ],
   "source": [
    "L_k_enu =(Ψ_Lb*γmu*D_μΨ_L)[0] + eRb*γmu*D_μeR\n",
    "L_k_enu"
   ]
  },
  {
   "cell_type": "markdown",
   "metadata": {
    "extensions": {
     "jupyter_dashboards": {
      "version": 1,
      "views": {
       "grid_default": {
        "col": 0,
        "height": 4,
        "hidden": false,
        "row": 253,
        "width": null
       },
       "report_default": {
        "hidden": false
       }
      }
     }
    }
   },
   "source": [
    "Sin embargo redordemos que tenemos las siquientes definiciones entre $W_1$, $W_2$ y $W^{-}$, $W^{+}$"
   ]
  },
  {
   "cell_type": "code",
   "execution_count": 33,
   "metadata": {
    "extensions": {
     "jupyter_dashboards": {
      "version": 1,
      "views": {
       "grid_default": {
        "col": 0,
        "height": 4,
        "hidden": false,
        "row": 257,
        "width": null
       },
       "report_default": {
        "hidden": false
       }
      }
     }
    }
   },
   "outputs": [
    {
     "data": {
      "image/png": "[encoded data removed]",
      "text/latex": [
       "$$\\left \\{ W_{μ}^{1} - i W_{μ}^{2} : W^{-}, \\quad W_{μ}^{1} + i W_{μ}^{2} : W^{+}\\right \\}$$"
      ],
      "text/plain": [
       "{W_{μ}__{1} - ⅈ⋅W_{μ}__{2}: W__{-}, W_{μ}__{1} + ⅈ⋅W_{μ}__{2}: W__{+}}"
      ]
     },
     "execution_count": 33,
     "metadata": {},
     "output_type": "execute_result"
    }
   ],
   "source": [
    "Wsubs"
   ]
  },
  {
   "cell_type": "markdown",
   "metadata": {
    "extensions": {
     "jupyter_dashboards": {
      "version": 1,
      "views": {
       "grid_default": {
        "col": 0,
        "height": 4,
        "hidden": false,
        "row": 261,
        "width": null
       },
       "report_default": {
        "hidden": false
       }
      }
     }
    }
   },
   "source": [
    "podemos reescribir este lagrangiano en terminos de $W^{-}$, $W^{+}$, $Z_{\\mu}$ y $A_{\\mu}$, realizamos las siguientes manipulaciones algebraicas:"
   ]
  },
  {
   "cell_type": "code",
   "execution_count": 177,
   "metadata": {
    "extensions": {
     "jupyter_dashboards": {
      "version": 1,
      "views": {
       "grid_default": {
        "col": 0,
        "height": 4,
        "hidden": false,
        "row": 265,
        "width": null
       },
       "report_default": {
        "hidden": false
       }
      }
     }
    },
    "run_control": {
     "marked": false
    }
   },
   "outputs": [
    {
     "data": {
      "image/png": "[encoded data removed]",
      "text/latex": [
       "$$- \\frac{i g_{1}}{2} \\overline{e_{L}} \\gamma^{\\mu} W^{+} ν_{e_{L}} - \\frac{i g_{1}}{2} \\overline{ν_{e_{L}}} \\gamma^{\\mu} W^{-} e_{L} + i g_{2} \\overline{e_{R}} \\gamma^{\\mu} B_{μ} e_{R} + \\frac{i \\overline{e_{L}}}{2} \\sqrt{g_{1}^{2} + g_{2}^{2}} \\gamma^{\\mu} e_{L} A_{μ} - \\frac{i \\overline{ν_{e_{L}}}}{2} \\sqrt{g_{1}^{2} + g_{2}^{2}} \\gamma^{\\mu} ν_{e_{L}} Z_{μ} + \\overline{e_{L}} \\gamma^{\\mu} \\partial_{μ} e_L + \\overline{e_{R}} \\gamma^{\\mu} \\partial_{μ} e_{R} + \\overline{ν_{e_{L}}} \\gamma^{\\mu} \\partial_{μ} ν_{e_L}$$"
      ],
      "text/plain": [
       "                                                                              \n",
       "                                                                              \n",
       "  ⅈ⋅g₁⋅\\overline{e_{L}}⋅\\gamma__{\\mu}⋅W__{+}⋅ν_{e_{L}}   ⅈ⋅g₁⋅\\overline{ν_{e_{\n",
       "- ──────────────────────────────────────────────────── - ─────────────────────\n",
       "                           2                                                  \n",
       "\n",
       "                                                                              \n",
       "                                                                              \n",
       "L}}}⋅\\gamma__{\\mu}⋅W__{-}⋅e_{L}                                               \n",
       "─────────────────────────────── + ⅈ⋅g₂⋅\\overline{e_{R}}⋅\\gamma__{\\mu}⋅B_{μ}⋅e_\n",
       "    2                                                                         \n",
       "\n",
       "           ___________                                                 _______\n",
       "          ╱   2     2                                                 ╱   2   \n",
       "      ⅈ⋅╲╱  g₁  + g₂  ⋅\\overline{e_{L}}⋅\\gamma__{\\mu}⋅e_{L}⋅A_μ   ⅈ⋅╲╱  g₁  + \n",
       "{R} + ───────────────────────────────────────────────────────── - ────────────\n",
       "                                  2                                           \n",
       "\n",
       "____                                                                          \n",
       "  2                                                                           \n",
       "g₂  ⋅\\overline{ν_{e_{L}}}⋅\\gamma__{\\mu}⋅ν_{e_{L}}⋅Z_μ                         \n",
       "───────────────────────────────────────────────────── + \\overline{e_{L}}⋅\\gamm\n",
       "                    2                                                         \n",
       "\n",
       "                                                                              \n",
       "                                                                              \n",
       "                                                                              \n",
       "a__{\\mu}⋅\\partial_{μ} e_L + \\overline{e_{R}}⋅\\gamma__{\\mu}⋅\\partial_{μ} e_{R} \n",
       "                                                                              \n",
       "\n",
       "                                                         \n",
       "                                                         \n",
       "                                                         \n",
       "+ \\overline{ν_{e_{L}}}⋅\\gamma__{\\mu}⋅\\partial_{μ} ν_{e_L}\n",
       "                                                         "
      ]
     },
     "execution_count": 177,
     "metadata": {},
     "output_type": "execute_result"
    }
   ],
   "source": [
    "L_k_enu = L_k_enu.subs(Wsubs)\n",
    "L_k_enu"
   ]
  },
  {
   "cell_type": "code",
   "execution_count": 35,
   "metadata": {
    "extensions": {
     "jupyter_dashboards": {
      "version": 1,
      "views": {
       "grid_default": {
        "col": 0,
        "height": 4,
        "hidden": false,
        "row": 269,
        "width": null
       },
       "report_default": {
        "hidden": false
       }
      }
     }
    }
   },
   "outputs": [
    {
     "data": {
      "image/png": "[encoded data removed]",
      "text/latex": [
       "$$\\left \\{ B_{μ} : \\frac{\\sqrt{g_{1}^{2} + g_{2}^{2}}}{2 g_{2}} \\left(A_{μ} - Z_{μ}\\right), \\quad W_{μ}^{3} : \\frac{\\sqrt{g_{1}^{2} + g_{2}^{2}}}{2 g_{1}} \\left(A_{μ} + Z_{μ}\\right)\\right \\}$$"
      ],
      "text/plain": [
       "⎧          ___________                             ___________            ⎫\n",
       "⎪         ╱   2     2                             ╱   2     2             ⎪\n",
       "⎨       ╲╱  g₁  + g₂  ⋅(A_μ - Z_μ)              ╲╱  g₁  + g₂  ⋅(A_μ + Z_μ)⎬\n",
       "⎪B_{μ}: ──────────────────────────, W_{μ}__{3}: ──────────────────────────⎪\n",
       "⎩                  2⋅g₂                                    2⋅g₁           ⎭"
      ]
     },
     "execution_count": 35,
     "metadata": {},
     "output_type": "execute_result"
    }
   ],
   "source": [
    "from sympy.abc import y,z, p, q\n",
    "ZAsubs\n",
    "# x->w3, y-> Bmu p-> Zmu y Amu->q\n",
    "eqs = Eq(g_1*x - g_2*y,sqrt(g_1**2 + g_2**2)*p), Eq(g_1*x + g_2*y,sqrt(g_1**2 + g_2**2)*q)\n",
    "pqsubs = {p:Z_μ,q:A_μ}\n",
    "sols = solve(eqs,[x,y])\n",
    "W3Bsubs = {W3:sols[x].subs(pqsubs),B_μ:sols[y].subs(pqsubs)}\n",
    "W3Bsubs"
   ]
  },
  {
   "cell_type": "code",
   "execution_count": 178,
   "metadata": {
    "extensions": {
     "jupyter_dashboards": {
      "version": 1,
      "views": {
       "grid_default": {
        "col": 0,
        "height": 4,
        "hidden": false,
        "row": 273,
        "width": null
       },
       "report_default": {
        "hidden": false
       }
      }
     }
    },
    "run_control": {
     "marked": false
    }
   },
   "outputs": [
    {
     "data": {
      "image/png": "[encoded data removed]",
      "text/latex": [
       "$$- \\frac{i g_{1}}{2} \\overline{e_{L}} \\gamma^{\\mu} W^{+} ν_{e_{L}} - \\frac{i g_{1}}{2} \\overline{ν_{e_{L}}} \\gamma^{\\mu} W^{-} e_{L} + \\frac{i \\overline{e_{L}}}{2} \\sqrt{g_{1}^{2} + g_{2}^{2}} \\gamma^{\\mu} e_{L} A_{μ} + \\frac{i \\overline{e_{R}}}{2} \\sqrt{g_{1}^{2} + g_{2}^{2}} \\gamma^{\\mu} \\left(A_{μ} - Z_{μ}\\right) e_{R} - \\frac{i \\overline{ν_{e_{L}}}}{2} \\sqrt{g_{1}^{2} + g_{2}^{2}} \\gamma^{\\mu} ν_{e_{L}} Z_{μ} + \\overline{e_{L}} \\gamma^{\\mu} \\partial_{μ} e_L + \\overline{e_{R}} \\gamma^{\\mu} \\partial_{μ} e_{R} + \\overline{ν_{e_{L}}} \\gamma^{\\mu} \\partial_{μ} ν_{e_L}$$"
      ],
      "text/plain": [
       "                                                                              \n",
       "                                                                              \n",
       "  ⅈ⋅g₁⋅\\overline{e_{L}}⋅\\gamma__{\\mu}⋅W__{+}⋅ν_{e_{L}}   ⅈ⋅g₁⋅\\overline{ν_{e_{\n",
       "- ──────────────────────────────────────────────────── - ─────────────────────\n",
       "                           2                                                  \n",
       "\n",
       "                                       ___________                            \n",
       "                                      ╱   2     2                             \n",
       "L}}}⋅\\gamma__{\\mu}⋅W__{-}⋅e_{L}   ⅈ⋅╲╱  g₁  + g₂  ⋅\\overline{e_{L}}⋅\\gamma__{\\\n",
       "─────────────────────────────── + ────────────────────────────────────────────\n",
       "    2                                                         2               \n",
       "\n",
       "                     ___________                                              \n",
       "                    ╱   2     2                                               \n",
       "mu}⋅e_{L}⋅A_μ   ⅈ⋅╲╱  g₁  + g₂  ⋅\\overline{e_{R}}⋅\\gamma__{\\mu}⋅(A_μ - Z_μ)⋅e_\n",
       "───────────── + ──────────────────────────────────────────────────────────────\n",
       "                                                2                             \n",
       "\n",
       "           ___________                                                        \n",
       "          ╱   2     2                                                         \n",
       "{R}   ⅈ⋅╲╱  g₁  + g₂  ⋅\\overline{ν_{e_{L}}}⋅\\gamma__{\\mu}⋅ν_{e_{L}}⋅Z_μ       \n",
       "─── - ───────────────────────────────────────────────────────────────── + \\ove\n",
       "                                      2                                       \n",
       "\n",
       "                                                                              \n",
       "                                                                              \n",
       "                                                                              \n",
       "rline{e_{L}}⋅\\gamma__{\\mu}⋅\\partial_{μ} e_L + \\overline{e_{R}}⋅\\gamma__{\\mu}⋅\\\n",
       "                                                                              \n",
       "\n",
       "                                                                           \n",
       "                                                                           \n",
       "                                                                           \n",
       "partial_{μ} e_{R} + \\overline{ν_{e_{L}}}⋅\\gamma__{\\mu}⋅\\partial_{μ} ν_{e_L}\n",
       "                                                                           "
      ]
     },
     "execution_count": 178,
     "metadata": {},
     "output_type": "execute_result"
    }
   ],
   "source": [
    "L_k_enu = L_k_enu.expand()\n",
    "L_k_enu.subs(W3Bsubs)"
   ]
  },
  {
   "cell_type": "code",
   "execution_count": 179,
   "metadata": {
    "extensions": {
     "jupyter_dashboards": {
      "version": 1,
      "views": {
       "grid_default": {
        "col": 0,
        "height": 4,
        "hidden": false,
        "row": 277,
        "width": null
       },
       "report_default": {
        "hidden": false
       }
      }
     }
    },
    "run_control": {
     "marked": false
    }
   },
   "outputs": [
    {
     "data": {
      "image/png": "[encoded data removed]",
      "text/latex": [
       "$$- \\frac{i g_{1}}{2} \\overline{e_{L}} \\gamma^{\\mu} W^{+} ν_{e_{L}} - \\frac{i g_{1}}{2} \\overline{ν_{e_{L}}} \\gamma^{\\mu} W^{-} e_{L} + i g_{2} \\overline{e_{R}} \\gamma^{\\mu} B_{μ} e_{R} + \\frac{i \\overline{e_{L}}}{2} \\sqrt{g_{1}^{2} + g_{2}^{2}} \\gamma^{\\mu} e_{L} A_{μ} - \\frac{i \\overline{ν_{e_{L}}}}{2} \\sqrt{g_{1}^{2} + g_{2}^{2}} \\gamma^{\\mu} ν_{e_{L}} Z_{μ} + \\overline{e_{L}} \\gamma^{\\mu} \\partial_{μ} e_L + \\overline{e_{R}} \\gamma^{\\mu} \\partial_{μ} e_{R} + \\overline{ν_{e_{L}}} \\gamma^{\\mu} \\partial_{μ} ν_{e_L}$$"
      ],
      "text/plain": [
       "                                                                              \n",
       "                                                                              \n",
       "  ⅈ⋅g₁⋅\\overline{e_{L}}⋅\\gamma__{\\mu}⋅W__{+}⋅ν_{e_{L}}   ⅈ⋅g₁⋅\\overline{ν_{e_{\n",
       "- ──────────────────────────────────────────────────── - ─────────────────────\n",
       "                           2                                                  \n",
       "\n",
       "                                                                              \n",
       "                                                                              \n",
       "L}}}⋅\\gamma__{\\mu}⋅W__{-}⋅e_{L}                                               \n",
       "─────────────────────────────── + ⅈ⋅g₂⋅\\overline{e_{R}}⋅\\gamma__{\\mu}⋅B_{μ}⋅e_\n",
       "    2                                                                         \n",
       "\n",
       "           ___________                                                 _______\n",
       "          ╱   2     2                                                 ╱   2   \n",
       "      ⅈ⋅╲╱  g₁  + g₂  ⋅\\overline{e_{L}}⋅\\gamma__{\\mu}⋅e_{L}⋅A_μ   ⅈ⋅╲╱  g₁  + \n",
       "{R} + ───────────────────────────────────────────────────────── - ────────────\n",
       "                                  2                                           \n",
       "\n",
       "____                                                                          \n",
       "  2                                                                           \n",
       "g₂  ⋅\\overline{ν_{e_{L}}}⋅\\gamma__{\\mu}⋅ν_{e_{L}}⋅Z_μ                         \n",
       "───────────────────────────────────────────────────── + \\overline{e_{L}}⋅\\gamm\n",
       "                    2                                                         \n",
       "\n",
       "                                                                              \n",
       "                                                                              \n",
       "                                                                              \n",
       "a__{\\mu}⋅\\partial_{μ} e_L + \\overline{e_{R}}⋅\\gamma__{\\mu}⋅\\partial_{μ} e_{R} \n",
       "                                                                              \n",
       "\n",
       "                                                         \n",
       "                                                         \n",
       "                                                         \n",
       "+ \\overline{ν_{e_{L}}}⋅\\gamma__{\\mu}⋅\\partial_{μ} ν_{e_L}\n",
       "                                                         "
      ]
     },
     "execution_count": 179,
     "metadata": {},
     "output_type": "execute_result"
    }
   ],
   "source": [
    "w =Wild('w') #variable \"muda\"\n",
    "L_k_enu = collect(L_k_enu,I*eLb*γmu*w*eL)\n",
    "L_k_enu"
   ]
  },
  {
   "cell_type": "code",
   "execution_count": 180,
   "metadata": {
    "extensions": {
     "jupyter_dashboards": {
      "version": 1,
      "views": {
       "grid_default": {
        "col": 0,
        "height": 4,
        "hidden": false,
        "row": 281,
        "width": null
       },
       "report_default": {
        "hidden": false
       }
      }
     }
    },
    "run_control": {
     "marked": false
    }
   },
   "outputs": [
    {
     "data": {
      "image/png": "[encoded data removed]",
      "text/latex": [
       "$$- \\frac{i g_{1}}{2} \\overline{e_{L}} \\gamma^{\\mu} W^{+} ν_{e_{L}} - \\frac{i g_{1}}{2} \\overline{ν_{e_{L}}} \\gamma^{\\mu} W^{-} e_{L} + i g_{2} \\overline{e_{R}} \\gamma^{\\mu} B_{μ} e_{R} + \\frac{i \\overline{e_{L}}}{2} \\sqrt{g_{1}^{2} + g_{2}^{2}} \\gamma^{\\mu} e_{L} A_{μ} - \\frac{i \\overline{ν_{e_{L}}}}{2} \\sqrt{g_{1}^{2} + g_{2}^{2}} \\gamma^{\\mu} ν_{e_{L}} Z_{μ} + \\overline{e_{L}} \\gamma^{\\mu} \\partial_{μ} e_L + \\overline{e_{R}} \\gamma^{\\mu} \\partial_{μ} e_{R} + \\overline{ν_{e_{L}}} \\gamma^{\\mu} \\partial_{μ} ν_{e_L}$$"
      ],
      "text/plain": [
       "                                                                              \n",
       "                                                                              \n",
       "  ⅈ⋅g₁⋅\\overline{e_{L}}⋅\\gamma__{\\mu}⋅W__{+}⋅ν_{e_{L}}   ⅈ⋅g₁⋅\\overline{ν_{e_{\n",
       "- ──────────────────────────────────────────────────── - ─────────────────────\n",
       "                           2                                                  \n",
       "\n",
       "                                                                              \n",
       "                                                                              \n",
       "L}}}⋅\\gamma__{\\mu}⋅W__{-}⋅e_{L}                                               \n",
       "─────────────────────────────── + ⅈ⋅g₂⋅\\overline{e_{R}}⋅\\gamma__{\\mu}⋅B_{μ}⋅e_\n",
       "    2                                                                         \n",
       "\n",
       "           ___________                                                 _______\n",
       "          ╱   2     2                                                 ╱   2   \n",
       "      ⅈ⋅╲╱  g₁  + g₂  ⋅\\overline{e_{L}}⋅\\gamma__{\\mu}⋅e_{L}⋅A_μ   ⅈ⋅╲╱  g₁  + \n",
       "{R} + ───────────────────────────────────────────────────────── - ────────────\n",
       "                                  2                                           \n",
       "\n",
       "____                                                                          \n",
       "  2                                                                           \n",
       "g₂  ⋅\\overline{ν_{e_{L}}}⋅\\gamma__{\\mu}⋅ν_{e_{L}}⋅Z_μ                         \n",
       "───────────────────────────────────────────────────── + \\overline{e_{L}}⋅\\gamm\n",
       "                    2                                                         \n",
       "\n",
       "                                                                              \n",
       "                                                                              \n",
       "                                                                              \n",
       "a__{\\mu}⋅\\partial_{μ} e_L + \\overline{e_{R}}⋅\\gamma__{\\mu}⋅\\partial_{μ} e_{R} \n",
       "                                                                              \n",
       "\n",
       "                                                         \n",
       "                                                         \n",
       "                                                         \n",
       "+ \\overline{ν_{e_{L}}}⋅\\gamma__{\\mu}⋅\\partial_{μ} ν_{e_L}\n",
       "                                                         "
      ]
     },
     "execution_count": 180,
     "metadata": {},
     "output_type": "execute_result"
    }
   ],
   "source": [
    "p =Wild('p')\n",
    "r = collect(L_k_enu,ν_eLb*γmu*ν_eL, evaluate=False)\n",
    "r[ν_eLb*γmu*ν_eL] = (I/2)*((-2*I)*r[ν_eLb*γmu*ν_eL]).expand()\n",
    "L_k_enu = r[1] + ν_eLb*γmu*ν_eL*r[ν_eLb*γmu*ν_eL]\n",
    "L_k_enu"
   ]
  },
  {
   "cell_type": "markdown",
   "metadata": {
    "extensions": {
     "jupyter_dashboards": {
      "version": 1,
      "views": {
       "grid_default": {
        "col": 0,
        "height": 4,
        "hidden": false,
        "row": 285,
        "width": null
       },
       "report_default": {
        "hidden": false
       }
      }
     }
    }
   },
   "source": [
    "Finamente el termino cinético en la ec. (\\ref{eq:term-cinetico-enu})\n",
    "$$\\overline{e_R}i\\gamma^{\\mu} D_{\\mu}e_R + \\overline{\\Psi_L}i\\gamma^{\\mu} D_{\\mu}\\Psi_L$$\n",
    "toma la forma:"
   ]
  },
  {
   "cell_type": "code",
   "execution_count": 181,
   "metadata": {
    "extensions": {
     "jupyter_dashboards": {
      "version": 1,
      "views": {
       "grid_default": {
        "col": 0,
        "height": 4,
        "hidden": false,
        "row": 289,
        "width": null
       },
       "report_default": {
        "hidden": false
       }
      }
     }
    }
   },
   "outputs": [
    {
     "data": {
      "image/png": "[encoded data removed]",
      "text/latex": [
       "$$- \\frac{i g_{1}}{2} \\overline{e_{L}} \\gamma^{\\mu} W^{+} ν_{e_{L}} - \\frac{i g_{1}}{2} \\overline{ν_{e_{L}}} \\gamma^{\\mu} W^{-} e_{L} + i g_{2} \\overline{e_{R}} \\gamma^{\\mu} B_{μ} e_{R} + \\frac{i \\overline{e_{L}}}{2} \\sqrt{g_{1}^{2} + g_{2}^{2}} \\gamma^{\\mu} e_{L} A_{μ} - \\frac{i \\overline{ν_{e_{L}}}}{2} \\sqrt{g_{1}^{2} + g_{2}^{2}} \\gamma^{\\mu} ν_{e_{L}} Z_{μ} + \\overline{e_{L}} \\gamma^{\\mu} \\partial_{μ} e_L + \\overline{e_{R}} \\gamma^{\\mu} \\partial_{μ} e_{R} + \\overline{ν_{e_{L}}} \\gamma^{\\mu} \\partial_{μ} ν_{e_L}$$"
      ],
      "text/plain": [
       "                                                                              \n",
       "                                                                              \n",
       "  ⅈ⋅g₁⋅\\overline{e_{L}}⋅\\gamma__{\\mu}⋅W__{+}⋅ν_{e_{L}}   ⅈ⋅g₁⋅\\overline{ν_{e_{\n",
       "- ──────────────────────────────────────────────────── - ─────────────────────\n",
       "                           2                                                  \n",
       "\n",
       "                                                                              \n",
       "                                                                              \n",
       "L}}}⋅\\gamma__{\\mu}⋅W__{-}⋅e_{L}                                               \n",
       "─────────────────────────────── + ⅈ⋅g₂⋅\\overline{e_{R}}⋅\\gamma__{\\mu}⋅B_{μ}⋅e_\n",
       "    2                                                                         \n",
       "\n",
       "           ___________                                                 _______\n",
       "          ╱   2     2                                                 ╱   2   \n",
       "      ⅈ⋅╲╱  g₁  + g₂  ⋅\\overline{e_{L}}⋅\\gamma__{\\mu}⋅e_{L}⋅A_μ   ⅈ⋅╲╱  g₁  + \n",
       "{R} + ───────────────────────────────────────────────────────── - ────────────\n",
       "                                  2                                           \n",
       "\n",
       "____                                                                          \n",
       "  2                                                                           \n",
       "g₂  ⋅\\overline{ν_{e_{L}}}⋅\\gamma__{\\mu}⋅ν_{e_{L}}⋅Z_μ                         \n",
       "───────────────────────────────────────────────────── + \\overline{e_{L}}⋅\\gamm\n",
       "                    2                                                         \n",
       "\n",
       "                                                                              \n",
       "                                                                              \n",
       "                                                                              \n",
       "a__{\\mu}⋅\\partial_{μ} e_L + \\overline{e_{R}}⋅\\gamma__{\\mu}⋅\\partial_{μ} e_{R} \n",
       "                                                                              \n",
       "\n",
       "                                                         \n",
       "                                                         \n",
       "                                                         \n",
       "+ \\overline{ν_{e_{L}}}⋅\\gamma__{\\mu}⋅\\partial_{μ} ν_{e_L}\n",
       "                                                         "
      ]
     },
     "execution_count": 181,
     "metadata": {},
     "output_type": "execute_result"
    }
   ],
   "source": [
    "L_k_enu = L_k_enu.subs(ZAsubs)\n",
    "L_k_enu"
   ]
  },
  {
   "cell_type": "code",
   "execution_count": 254,
   "metadata": {
    "extensions": {
     "jupyter_dashboards": {
      "version": 1,
      "views": {
       "grid_default": {
        "col": 0,
        "height": 10,
        "hidden": false,
        "row": 293,
        "width": null
       },
       "report_default": {
        "hidden": false
       }
      }
     }
    }
   },
   "outputs": [
    {
     "data": {
      "image/png": "[encoded data removed]",
      "text/latex": [
       "$$\\left[\\begin{matrix}1.0 & \\overline{e_{L}} \\gamma^{\\mu} \\partial_{μ} e_L\\\\1.0 & \\overline{e_{R}} \\gamma^{\\mu} \\partial_{μ} e_{R}\\\\1.0 & \\overline{ν_{e_{L}}} \\gamma^{\\mu} \\partial_{μ} ν_{e_L}\\\\i g_{2} & \\overline{e_{R}} \\gamma^{\\mu} B_{μ} e_{R}\\\\\\frac{i}{2} \\sqrt{g_{1}^{2} + g_{2}^{2}} & \\overline{e_{L}} \\gamma^{\\mu} e_{L} A_{μ}\\\\- \\frac{i g_{1}}{2} & \\overline{e_{L}} \\gamma^{\\mu} W^{+} ν_{e_{L}}\\\\- \\frac{i g_{1}}{2} & \\overline{ν_{e_{L}}} \\gamma^{\\mu} W^{-} e_{L}\\\\- \\frac{i}{2} \\sqrt{g_{1}^{2} + g_{2}^{2}} & \\overline{ν_{e_{L}}} \\gamma^{\\mu} ν_{e_{L}} Z_{μ}\\end{matrix}\\right]$$"
      ],
      "text/plain": [
       "⎡       1.0              \\overline{e_{L}}⋅\\gamma__{\\mu}⋅\\partial_{μ} e_L    ⎤\n",
       "⎢                                                                           ⎥\n",
       "⎢       1.0             \\overline{e_{R}}⋅\\gamma__{\\mu}⋅\\partial_{μ} e_{R}   ⎥\n",
       "⎢                                                                           ⎥\n",
       "⎢       1.0          \\overline{ν_{e_{L}}}⋅\\gamma__{\\mu}⋅\\partial_{μ} ν_{e_L}⎥\n",
       "⎢                                                                           ⎥\n",
       "⎢       ⅈ⋅g₂               \\overline{e_{R}}⋅\\gamma__{\\mu}⋅B_{μ}⋅e_{R}       ⎥\n",
       "⎢                                                                           ⎥\n",
       "⎢      ___________                                                          ⎥\n",
       "⎢     ╱   2     2                                                           ⎥\n",
       "⎢ ⅈ⋅╲╱  g₁  + g₂                                                            ⎥\n",
       "⎢ ────────────────          \\overline{e_{L}}⋅\\gamma__{\\mu}⋅e_{L}⋅A_μ        ⎥\n",
       "⎢        2                                                                  ⎥\n",
       "⎢                                                                           ⎥\n",
       "⎢      -ⅈ⋅g₁                                                                ⎥\n",
       "⎢      ──────            \\overline{e_{L}}⋅\\gamma__{\\mu}⋅W__{+}⋅ν_{e_{L}}    ⎥\n",
       "⎢        2                                                                  ⎥\n",
       "⎢                                                                           ⎥\n",
       "⎢      -ⅈ⋅g₁                                                                ⎥\n",
       "⎢      ──────            \\overline{ν_{e_{L}}}⋅\\gamma__{\\mu}⋅W__{-}⋅e_{L}    ⎥\n",
       "⎢        2                                                                  ⎥\n",
       "⎢                                                                           ⎥\n",
       "⎢      ___________                                                          ⎥\n",
       "⎢     ╱   2     2                                                           ⎥\n",
       "⎢-ⅈ⋅╲╱  g₁  + g₂                                                            ⎥\n",
       "⎢──────────────────     \\overline{ν_{e_{L}}}⋅\\gamma__{\\mu}⋅ν_{e_{L}}⋅Z_μ    ⎥\n",
       "⎣        2                                                                  ⎦"
      ]
     },
     "execution_count": 254,
     "metadata": {},
     "output_type": "execute_result"
    }
   ],
   "source": [
    "Matrix(lista_campos_acoplamientos(L_k_enu))"
   ]
  },
  {
   "cell_type": "markdown",
   "metadata": {
    "extensions": {
     "jupyter_dashboards": {
      "version": 1,
      "views": {
       "grid_default": {
        "col": 0,
        "height": 10,
        "hidden": false,
        "row": 303,
        "width": null
       },
       "report_default": {
        "hidden": false
       }
      }
     }
    }
   },
   "source": [
    "### Término de masa leptónico\n",
    "\n",
    "Si partimos de la ec. \\ref{eq:DiracLR} y nos enfocamos en el término de masa,\n",
    "\n",
    "$$-m(\\overline{\\Psi_R}\\Psi_{L} + \\overline{\\Psi_L}\\Psi_{R}),$$\n",
    "\n",
    "es claro que este termino viola la simetría Gauge por que los campos quirales izquierdos se transforman de manera diferente a los campos quirales derechos, como se puede observar en las ecs. (\\ref{eq:DmuR}) y (\\ref{eq:DmuL}). Por tanto este termino queda fuera del lagrangiano del Modelo estándar. Sin embargo, tenemos un término de interacción entre el higgs y los leptones\n",
    "\n",
    "\\begin{equation}\\label{eq:henu}\n",
    "-G_e (\\overline{\\Psi_L}\\phi \\Psi_R + \\overline{\\Psi_R}\\phi^{\\dagger} \\Psi_L)\n",
    "\\end{equation}\n",
    "\n",
    "donde $G_e$ es la constante de acoplamiento. Podemos expandir este término considerando el \"gauge unitario\", a saber:"
   ]
  },
  {
   "cell_type": "code",
   "execution_count": 40,
   "metadata": {
    "extensions": {
     "jupyter_dashboards": {
      "version": 1,
      "views": {
       "grid_default": {
        "col": 0,
        "height": 4,
        "hidden": false,
        "row": 313,
        "width": null
       },
       "report_default": {
        "hidden": false
       }
      }
     }
    }
   },
   "outputs": [
    {
     "data": {
      "image/png": "[encoded data removed]",
      "text/latex": [
       "$$\\left[\\begin{matrix}0\\\\v + \\frac{\\sqrt{2}}{2} h{\\left (x \\right )}\\end{matrix}\\right]$$"
      ],
      "text/plain": [
       "⎡     0     ⎤\n",
       "⎢           ⎥\n",
       "⎢    √2⋅h(x)⎥\n",
       "⎢v + ───────⎥\n",
       "⎣       2   ⎦"
      ]
     },
     "execution_count": 40,
     "metadata": {},
     "output_type": "execute_result"
    }
   ],
   "source": [
    "ϕvev"
   ]
  },
  {
   "cell_type": "code",
   "execution_count": 41,
   "metadata": {
    "extensions": {
     "jupyter_dashboards": {
      "version": 1,
      "views": {
       "grid_default": {
        "col": 0,
        "height": 4,
        "hidden": false,
        "row": 317,
        "width": null
       },
       "report_default": {
        "hidden": false
       }
      }
     }
    }
   },
   "outputs": [
    {
     "data": {
      "image/png": "[encoded data removed]",
      "text/latex": [
       "$$G_{e} \\left(- v - \\frac{\\sqrt{2}}{2} h{\\left (x \\right )}\\right) \\left(\\overline{e_{L}} e_{R} + \\overline{e_{R}} e_{L}\\right) + G_{\\nu_e} \\left(- v - \\frac{\\sqrt{2}}{2} h{\\left (x \\right )}\\right) \\left(\\overline{ν_{e_{L}}} ν_{e_{R}} + \\overline{ν_{e_{R}}} ν_{e_{L}}\\right)$$"
      ],
      "text/plain": [
       "   ⎛     √2⋅h(x)⎞                                                             \n",
       "Gₑ⋅⎜-v - ───────⎟⋅(\\overline{e_{L}}⋅e_{R} + \\overline{e_{R}}⋅e_{L}) + G_{\\nu_e\n",
       "   ⎝        2   ⎠                                                             \n",
       "\n",
       "  ⎛     √2⋅h(x)⎞                                                              \n",
       "}⋅⎜-v - ───────⎟⋅(\\overline{ν_{e_{L}}}⋅ν_{e_{R}} + \\overline{ν_{e_{R}}}⋅ν_{e_{\n",
       "  ⎝        2   ⎠                                                              \n",
       "\n",
       "    \n",
       "L}})\n",
       "    "
      ]
     },
     "execution_count": 41,
     "metadata": {},
     "output_type": "execute_result"
    }
   ],
   "source": [
    "G_e = Symbol(r'G_e', real=True)\n",
    "G_nue = Symbol(r'G_{\\nu_e}', real=True)\n",
    "ϕvevadj = I*msigma(2)*ϕvev\n",
    "term_h_enu = -G_e*((Ψ_Lb*ϕvev*eR)[0] + eRb*(ϕvev.T*Ψ_L)[0]) -G_nue*((Ψ_Lb*ϕvevadj*ν_eR)[0] + ν_eRb*(ϕvevadj.T*Ψ_L)[0])\n",
    "\n",
    "r = term_h_enu.expand().collect([G_e,G_nue],evaluate=False)\n",
    "claves = list(dict.keys(r))\n",
    "for i in claves:\n",
    "    r[i] = r[i].factor()\n",
    "sum(i*r[i] for i in claves)"
   ]
  },
  {
   "cell_type": "code",
   "execution_count": 42,
   "metadata": {
    "extensions": {
     "jupyter_dashboards": {
      "version": 1,
      "views": {
       "grid_default": {
        "hidden": true
       },
       "report_default": {
        "hidden": true
       }
      }
     }
    }
   },
   "outputs": [],
   "source": [
    "def factor_de_coeff(expr,lista_coefi):\n",
    "    '''\n",
    "    Esta función, toma la expresión \"expr\" y factoriza todos los términos que acompañan a cada \n",
    "    uno de los coeficientes en la lista \"lista_coefi\"\n",
    "    '''\n",
    "    r = expr.expand().collect(lista_coefi,evaluate=False)\n",
    "    claves = list(dict.keys(r))\n",
    "    for i in claves:\n",
    "        r[i] = r[i].factor()\n",
    "    return sum(i*r[i] for i in claves)"
   ]
  },
  {
   "cell_type": "code",
   "execution_count": 43,
   "metadata": {
    "extensions": {
     "jupyter_dashboards": {
      "version": 1,
      "views": {
       "grid_default": {
        "col": 0,
        "height": 5,
        "hidden": false,
        "row": 321,
        "width": null
       },
       "report_default": {
        "hidden": false
       }
      }
     }
    }
   },
   "outputs": [
    {
     "data": {
      "image/png": "[encoded data removed]",
      "text/latex": [
       "$$\\left ( G_{e} \\left(- v - \\frac{\\sqrt{2}}{2} h{\\left (x \\right )}\\right) \\left(\\overline{e_{L}} e_{R} + \\overline{e_{R}} e_{L}\\right) + G_{\\nu_e} \\left(- v - \\frac{\\sqrt{2}}{2} h{\\left (x \\right )}\\right) \\left(\\overline{ν_{e_{L}}} ν_{e_{R}} + \\overline{ν_{e_{R}}} ν_{e_{L}}\\right), \\quad - G_{e} \\left(v + \\frac{\\sqrt{2}}{2} h{\\left (x \\right )}\\right) \\left(\\overline{e_{L}} e_{R} + \\overline{e_{R}} e_{L}\\right) - G_{\\nu_e} \\left(v + \\frac{\\sqrt{2}}{2} h{\\left (x \\right )}\\right) \\left(\\overline{ν_{e_{L}}} ν_{e_{R}} + \\overline{ν_{e_{R}}} ν_{e_{L}}\\right)\\right )$$"
      ],
      "text/plain": [
       "⎛   ⎛     √2⋅h(x)⎞                                                            \n",
       "⎜Gₑ⋅⎜-v - ───────⎟⋅(\\overline{e_{L}}⋅e_{R} + \\overline{e_{R}}⋅e_{L}) + G_{\\nu_\n",
       "⎝   ⎝        2   ⎠                                                            \n",
       "\n",
       "   ⎛     √2⋅h(x)⎞                                                             \n",
       "e}⋅⎜-v - ───────⎟⋅(\\overline{ν_{e_{L}}}⋅ν_{e_{R}} + \\overline{ν_{e_{R}}}⋅ν_{e_\n",
       "   ⎝        2   ⎠                                                             \n",
       "\n",
       "            ⎛    √2⋅h(x)⎞                                                     \n",
       "{L}}), - Gₑ⋅⎜v + ───────⎟⋅(\\overline{e_{L}}⋅e_{R} + \\overline{e_{R}}⋅e_{L}) - \n",
       "            ⎝       2   ⎠                                                     \n",
       "\n",
       "          ⎛    √2⋅h(x)⎞                                                       \n",
       "G_{\\nu_e}⋅⎜v + ───────⎟⋅(\\overline{ν_{e_{L}}}⋅ν_{e_{R}} + \\overline{ν_{e_{R}}}\n",
       "          ⎝       2   ⎠                                                       \n",
       "\n",
       "           ⎞\n",
       "⋅ν_{e_{L}})⎟\n",
       "           ⎠"
      ]
     },
     "execution_count": 43,
     "metadata": {},
     "output_type": "execute_result"
    }
   ],
   "source": [
    "term_h_enu,collect(term_h_enu,[G_e,G_nue]),\n",
    "factor_de_coeff(term_h_enu,[G_e,G_nue]),collect(term_h_enu,[G_e,G_nue],simplify)"
   ]
  },
  {
   "cell_type": "markdown",
   "metadata": {
    "extensions": {
     "jupyter_dashboards": {
      "version": 1,
      "views": {
       "grid_default": {
        "col": 0,
        "height": 4,
        "hidden": false,
        "row": 326,
        "width": 12
       },
       "report_default": {
        "hidden": false
       }
      }
     }
    }
   },
   "source": [
    "## Decaimientos del bóson de Higgs.\n",
    "A continuación estudiaremos de manera profunda los decaimientos posibles del higgs del Modelo Estándar. La referencia de esta sección es [The Standard Model Higgs Boson (cap. 3)](https://www.nikhef.nl/~ivov/HiggsLectureNote.pdf). "
   ]
  },
  {
   "cell_type": "code",
   "execution_count": null,
   "metadata": {
    "extensions": {
     "jupyter_dashboards": {
      "version": 1,
      "views": {
       "grid_default": {
        "hidden": true
       },
       "report_default": {
        "hidden": true
       }
      }
     }
    }
   },
   "outputs": [],
   "source": []
  },
  {
   "cell_type": "code",
   "execution_count": null,
   "metadata": {
    "extensions": {
     "jupyter_dashboards": {
      "version": 1,
      "views": {
       "grid_default": {
        "hidden": true
       },
       "report_default": {
        "hidden": true
       }
      }
     }
    }
   },
   "outputs": [],
   "source": []
  },
  {
   "cell_type": "code",
   "execution_count": 34,
   "metadata": {
    "extensions": {
     "jupyter_dashboards": {
      "version": 1,
      "views": {
       "grid_default": {
        "col": 0,
        "height": 4,
        "hidden": false,
        "row": 330,
        "width": null
       },
       "report_default": {
        "hidden": false
       }
      }
     }
    }
   },
   "outputs": [
    {
     "data": {
      "image/png": "[encoded data removed]",
      "text/latex": [
       "$$\\left [ x, \\quad \\frac{1}{x}, \\quad \\frac{1}{x^{2}}, \\quad x^{2}, \\quad \\sqrt{x}, \\quad \\sqrt[4]{x}, \\quad x^{\\frac{3}{2}}\\right ]$$"
      ],
      "text/plain": [
       "⎡   1  1    2      4 ___   3/2⎤\n",
       "⎢x, ─, ──, x , √x, ╲╱ x , x   ⎥\n",
       "⎢   x   2                     ⎥\n",
       "⎣      x                      ⎦"
      ]
     },
     "execution_count": 34,
     "metadata": {},
     "output_type": "execute_result"
    }
   ],
   "source": [
    "S(\"[x, 1/x, 1/x**2, x**2, x**(1/2), x**(1/4), x**(3/2)]\")"
   ]
  },
  {
   "cell_type": "code",
   "execution_count": 35,
   "metadata": {
    "extensions": {
     "jupyter_dashboards": {
      "version": 1,
      "views": {
       "grid_default": {
        "col": 0,
        "height": 4,
        "hidden": false,
        "row": 334,
        "width": null
       },
       "report_default": {
        "hidden": false
       }
      }
     }
    }
   },
   "outputs": [
    {
     "data": {
      "image/png": "[encoded data removed]",
      "text/latex": [
       "$$\\left [ \\frac{1}{x^{2}}, \\quad \\frac{1}{x}, \\quad \\sqrt[4]{x}, \\quad \\sqrt{x}, \\quad x, \\quad x^{\\frac{3}{2}}, \\quad x^{2}\\right ]$$"
      ],
      "text/plain": [
       "⎡1   1  4 ___          3/2   2⎤\n",
       "⎢──, ─, ╲╱ x , √x, x, x   , x ⎥\n",
       "⎢ 2  x                        ⎥\n",
       "⎣x                            ⎦"
      ]
     },
     "execution_count": 35,
     "metadata": {},
     "output_type": "execute_result"
    }
   ],
   "source": [
    "sorted(_, key=lambda x: x.sort_key())"
   ]
  },
  {
   "cell_type": "code",
   "execution_count": 396,
   "metadata": {
    "extensions": {
     "jupyter_dashboards": {
      "version": 1,
      "views": {
       "grid_default": {
        "col": 0,
        "height": 6,
        "hidden": false,
        "row": 338,
        "width": 4
       },
       "report_default": {
        "hidden": false
       }
      }
     }
    }
   },
   "outputs": [
    {
     "data": {
      "text/html": [
       "<table>\n",
       "<tbody>\n",
       "<tr><td>Sun  </td><td style=\"text-align: right;\">696000</td><td>1989100000    </td></tr>\n",
       "<tr><td>Earth</td><td style=\"text-align: right;\">  6371</td><td>5973.6        </td></tr>\n",
       "<tr><td>Moon </td><td style=\"text-align: right;\">  1737</td><td>73.5          </td></tr>\n",
       "<tr><td>Mars </td><td style=\"text-align: right;\">  3390</td><td>641.85*sqrt(x)</td></tr>\n",
       "</tbody>\n",
       "</table>"
      ],
      "text/plain": [
       "<IPython.core.display.HTML object>"
      ]
     },
     "metadata": {},
     "output_type": "display_data"
    }
   ],
   "source": [
    "from IPython.display import HTML, display\n",
    "import tabulate\n",
    "table = [[\"Sun\",696000,1989100000],\n",
    "         [\"Earth\",6371,5973.6],\n",
    "         [\"Moon\",1737,73.5],\n",
    "         [\"Mars\",3390,S(641.85)*sqrt(x)]]\n",
    "display(HTML(tabulate.tabulate(table, tablefmt='html')))"
   ]
  },
  {
   "cell_type": "code",
   "execution_count": 407,
   "metadata": {
    "extensions": {
     "jupyter_dashboards": {
      "version": 1,
      "views": {
       "grid_default": {
        "col": 4,
        "height": 4,
        "hidden": false,
        "row": 338,
        "width": null
       },
       "report_default": {
        "hidden": false
       }
      }
     }
    }
   },
   "outputs": [
    {
     "data": {
      "image/png": "[encoded data removed]",
      "text/latex": [
       "$$x \\left(2 {\\Delta}a + {\\Delta}c\\right) + y \\left({\\Delta}a + {\\Delta}c\\right) + 3 z {\\Delta}b - 2 {\\Delta}a$$"
      ],
      "text/plain": [
       "x⋅(2⋅{\\Delta}a + {\\Delta}c) + y⋅({\\Delta}a + {\\Delta}c) + 3⋅z⋅{\\Delta}b - 2⋅{\\\n",
       "Delta}a"
      ]
     },
     "metadata": {},
     "output_type": "display_data"
    },
    {
     "data": {
      "image/png": "[encoded data removed]",
      "text/latex": [
       "$$x \\left({\\Delta}a + {\\Delta}c\\right) + z \\left({\\Delta}b + {\\Delta}c\\right) + 2 {\\Delta}b$$"
      ],
      "text/plain": [
       "x⋅({\\Delta}a + {\\Delta}c) + z⋅({\\Delta}b + {\\Delta}c) + 2⋅{\\Delta}b"
      ]
     },
     "metadata": {},
     "output_type": "display_data"
    }
   ],
   "source": [
    "#creando tablas\n",
    "sym.init_printing()\n",
    "x,y,z = sym.symbols('x,y,z')\n",
    "da,db,dc = sym.symbols('{\\Delta}a {\\Delta}b {\\Delta}c ' )\n",
    "\n",
    "e_list = []\n",
    "d_list = []\n",
    "e_list.append(da*2*x + da*(y - 2) + db*3*z + dc*(x+y))\n",
    "e_list.append(dc*z + dc*x + da*x + db*(z+2))\n",
    "for e in e_list:\n",
    "    display(e.expand().collect((x,y,z)))\n",
    "    d_list.append(e.expand().collect((x,y,z),evaluate=False))\n",
    "\n",
    "df = pd.DataFrame(d_list).T"
   ]
  },
  {
   "cell_type": "code",
   "execution_count": 506,
   "metadata": {
    "extensions": {
     "jupyter_dashboards": {
      "version": 1,
      "views": {
       "grid_default": {
        "col": 4,
        "height": 6,
        "hidden": false,
        "row": 342,
        "width": 4
       },
       "report_default": {
        "hidden": false
       }
      }
     }
    }
   },
   "outputs": [
    {
     "data": {
      "text/html": [
       "<div>\n",
       "<table border=\"1\" class=\"dataframe\">\n",
       "  <thead>\n",
       "    <tr style=\"text-align: right;\">\n",
       "      <th></th>\n",
       "      <th>0</th>\n",
       "      <th>1</th>\n",
       "    </tr>\n",
       "  </thead>\n",
       "  <tbody>\n",
       "    <tr>\n",
       "      <th>1</th>\n",
       "      <td>-2*{\\Delta}a</td>\n",
       "      <td>2*{\\Delta}b</td>\n",
       "    </tr>\n",
       "    <tr>\n",
       "      <th>x</th>\n",
       "      <td>2*{\\Delta}a + {\\Delta}c</td>\n",
       "      <td>{\\Delta}a + {\\Delta}c</td>\n",
       "    </tr>\n",
       "    <tr>\n",
       "      <th>z</th>\n",
       "      <td>3*{\\Delta}b</td>\n",
       "      <td>{\\Delta}b + {\\Delta}c</td>\n",
       "    </tr>\n",
       "    <tr>\n",
       "      <th>y</th>\n",
       "      <td>{\\Delta}a + {\\Delta}c</td>\n",
       "      <td>NaN</td>\n",
       "    </tr>\n",
       "  </tbody>\n",
       "</table>\n",
       "</div>"
      ],
      "text/plain": [
       "                         0                      1\n",
       "1             -2*{\\Delta}a            2*{\\Delta}b\n",
       "x  2*{\\Delta}a + {\\Delta}c  {\\Delta}a + {\\Delta}c\n",
       "z              3*{\\Delta}b  {\\Delta}b + {\\Delta}c\n",
       "y    {\\Delta}a + {\\Delta}c                    NaN"
      ]
     },
     "execution_count": 506,
     "metadata": {},
     "output_type": "execute_result"
    }
   ],
   "source": [
    "df"
   ]
  },
  {
   "cell_type": "code",
   "execution_count": 515,
   "metadata": {
    "extensions": {
     "jupyter_dashboards": {
      "version": 1,
      "views": {
       "grid_default": {
        "col": 8,
        "height": 4,
        "hidden": false,
        "row": 342,
        "width": null
       },
       "report_default": {
        "hidden": false
       }
      }
     }
    }
   },
   "outputs": [
    {
     "data": {
      "image/png": "[encoded data removed]",
      "text/latex": [
       "$$\\left \\{ 1 : y, \\quad x^{3} : 3.0, \\quad x_{-1}^{2} : 2.0, \\quad x_{-2} : 1\\right \\}$$"
      ],
      "text/plain": [
       "⎧       3          2             ⎫\n",
       "⎨1: y, x : 3.0, x₋₁ : 2.0, x₋₂: 1⎬\n",
       "⎩                                ⎭"
      ]
     },
     "execution_count": 515,
     "metadata": {},
     "output_type": "execute_result"
    }
   ],
   "source": [
    "collect(f,[x, xn1, xn2],evaluate=False)"
   ]
  },
  {
   "cell_type": "code",
   "execution_count": 518,
   "metadata": {
    "extensions": {
     "jupyter_dashboards": {
      "version": 1,
      "views": {
       "grid_default": {
        "hidden": true
       },
       "report_default": {
        "hidden": true
       }
      }
     }
    }
   },
   "outputs": [],
   "source": [
    "from sympy import lambdify\n",
    "\n",
    "def _create_func(ex,lib):\n",
    "    symbs = list(ex.free_symbols)\n",
    "    names = [e.name for e in symbs]\n",
    "    s = sorted(zip(names,symbs))\n",
    "    names, symbs = zip(*s)\n",
    "    return lambdify(symbs,ex,lib), names\n",
    "    \n",
    "def domath(df,exp,lib='math'):    \n",
    "    afunc, names = _create_func(exp,lib)\n",
    "    \n",
    "    tdf = df.copy()\n",
    "    \n",
    "    for name in names:\n",
    "        if name not in tdf.columns:\n",
    "            if \"_\" in name:\n",
    "                v,i = name.split(\"_\")\n",
    "                tdf[name] = tdf[v].shift(int(i)*-1)\n",
    "\n",
    "    vals = tdf[list(names)].values\n",
    "    return [afunc(*val) for val in vals]"
   ]
  },
  {
   "cell_type": "code",
   "execution_count": 520,
   "metadata": {
    "extensions": {
     "jupyter_dashboards": {
      "version": 1,
      "views": {
       "grid_default": {
        "col": 0,
        "height": 10,
        "hidden": false,
        "row": 344,
        "width": 4
       },
       "report_default": {
        "hidden": false
       }
      }
     }
    }
   },
   "outputs": [
    {
     "data": {
      "text/html": [
       "<div>\n",
       "<table border=\"1\" class=\"dataframe\">\n",
       "  <thead>\n",
       "    <tr style=\"text-align: right;\">\n",
       "      <th></th>\n",
       "      <th>x</th>\n",
       "      <th>y</th>\n",
       "      <th>f</th>\n",
       "    </tr>\n",
       "  </thead>\n",
       "  <tbody>\n",
       "    <tr>\n",
       "      <th>0</th>\n",
       "      <td>1</td>\n",
       "      <td>0.1</td>\n",
       "      <td>NaN</td>\n",
       "    </tr>\n",
       "    <tr>\n",
       "      <th>1</th>\n",
       "      <td>2</td>\n",
       "      <td>0.2</td>\n",
       "      <td>NaN</td>\n",
       "    </tr>\n",
       "    <tr>\n",
       "      <th>2</th>\n",
       "      <td>3</td>\n",
       "      <td>0.1</td>\n",
       "      <td>90.1</td>\n",
       "    </tr>\n",
       "    <tr>\n",
       "      <th>3</th>\n",
       "      <td>4</td>\n",
       "      <td>0.2</td>\n",
       "      <td>212.2</td>\n",
       "    </tr>\n",
       "    <tr>\n",
       "      <th>4</th>\n",
       "      <td>1</td>\n",
       "      <td>0.1</td>\n",
       "      <td>38.1</td>\n",
       "    </tr>\n",
       "    <tr>\n",
       "      <th>5</th>\n",
       "      <td>2</td>\n",
       "      <td>0.2</td>\n",
       "      <td>30.2</td>\n",
       "    </tr>\n",
       "    <tr>\n",
       "      <th>6</th>\n",
       "      <td>3</td>\n",
       "      <td>0.1</td>\n",
       "      <td>90.1</td>\n",
       "    </tr>\n",
       "    <tr>\n",
       "      <th>7</th>\n",
       "      <td>4</td>\n",
       "      <td>0.2</td>\n",
       "      <td>212.2</td>\n",
       "    </tr>\n",
       "  </tbody>\n",
       "</table>\n",
       "</div>"
      ],
      "text/plain": [
       "   x    y      f\n",
       "0  1  0.1    NaN\n",
       "1  2  0.2    NaN\n",
       "2  3  0.1   90.1\n",
       "3  4  0.2  212.2\n",
       "4  1  0.1   38.1\n",
       "5  2  0.2   30.2\n",
       "6  3  0.1   90.1\n",
       "7  4  0.2  212.2"
      ]
     },
     "execution_count": 520,
     "metadata": {},
     "output_type": "execute_result"
    }
   ],
   "source": [
    "df = pd.DataFrame({'x' : [1,2,3,4] * 2, 'y' : [0.1, 0.2] * 4})\n",
    "\n",
    "# Notice x_-1 and x_-2 are used to reference x @ t=-1, and x @ t=-2.\n",
    "x, xn1, xn2, y = symbols('x x_-1 x_-2 y')\n",
    "\n",
    "f = 3.0 * x ** 3 + 2.0 * xn1 ** 2 + xn2 + (y * 2) / 2\n",
    "df['f'] = domath(df,f)\n",
    "df"
   ]
  },
  {
   "cell_type": "code",
   "execution_count": 522,
   "metadata": {
    "extensions": {
     "jupyter_dashboards": {
      "version": 1,
      "views": {
       "grid_default": {
        "col": 8,
        "height": 4,
        "hidden": false,
        "row": 346,
        "width": null
       },
       "report_default": {
        "hidden": false
       }
      }
     }
    }
   },
   "outputs": [
    {
     "data": {
      "image/png": "[encoded data removed]",
      "text/latex": [
       "$$\\left\\{x, x_{-1}, x_{-2}, y\\right\\}$$"
      ],
      "text/plain": [
       "set([x, x₋₁, x₋₂, y])"
      ]
     },
     "execution_count": 522,
     "metadata": {},
     "output_type": "execute_result"
    }
   ],
   "source": [
    "f.free_symbols"
   ]
  },
  {
   "cell_type": "code",
   "execution_count": 523,
   "metadata": {
    "extensions": {
     "jupyter_dashboards": {
      "version": 1,
      "views": {
       "grid_default": {
        "col": 4,
        "height": 4,
        "hidden": false,
        "row": 348,
        "width": 4
       },
       "report_default": {
        "hidden": false
       }
      }
     }
    }
   },
   "outputs": [
    {
     "data": {
      "text/plain": [
       "'x'"
      ]
     },
     "execution_count": 523,
     "metadata": {},
     "output_type": "execute_result"
    }
   ],
   "source": [
    "x.name"
   ]
  },
  {
   "cell_type": "code",
   "execution_count": 531,
   "metadata": {
    "extensions": {
     "jupyter_dashboards": {
      "version": 1,
      "views": {
       "grid_default": {
        "col": 8,
        "height": 4,
        "hidden": false,
        "row": 350,
        "width": 4
       },
       "report_default": {
        "hidden": false
       }
      }
     }
    }
   },
   "outputs": [
    {
     "data": {
      "text/plain": [
       "(<function <lambda>>, ('x', 'x_-1', 'x_-2', 'y'))"
      ]
     },
     "execution_count": 531,
     "metadata": {},
     "output_type": "execute_result"
    }
   ],
   "source": [
    "ex = f\n",
    "symbs = list(ex.free_symbols)\n",
    "names = [e.name for e in symbs]\n",
    "s = sorted(zip(names,symbs))\n",
    "names, symbs = zip(*s)\n",
    "lambdify(symbs,ex,'math'), names\n"
   ]
  },
  {
   "cell_type": "code",
   "execution_count": 534,
   "metadata": {
    "extensions": {
     "jupyter_dashboards": {
      "version": 1,
      "views": {
       "grid_default": {
        "col": 4,
        "height": 4,
        "hidden": false,
        "row": 352,
        "width": 4
       },
       "report_default": {
        "hidden": false
       }
      }
     }
    }
   },
   "outputs": [
    {
     "data": {
      "text/plain": [
       "(<function <lambda>>, ('x', 'x_-1', 'x_-2', 'y'))"
      ]
     },
     "execution_count": 534,
     "metadata": {},
     "output_type": "execute_result"
    }
   ],
   "source": [
    "_create_func(ex,'math')"
   ]
  },
  {
   "cell_type": "code",
   "execution_count": null,
   "metadata": {
    "extensions": {
     "jupyter_dashboards": {
      "version": 1,
      "views": {
       "grid_default": {
        "hidden": true
       },
       "report_default": {
        "hidden": true
       }
      }
     }
    }
   },
   "outputs": [],
   "source": []
  }
 ],
 "metadata": {
  "anaconda-cloud": {},
  "extensions": {
   "jupyter_dashboards": {
    "activeView": "report_default",
    "version": 1,
    "views": {
     "grid_default": {
      "cellMargin": 10,
      "defaultCellHeight": 20,
      "maxColumns": 12,
      "name": "grid",
      "type": "grid"
     },
     "report_default": {
      "name": "report",
      "type": "report"
     }
    }
   }
  },
  "gist": {
   "data": {
    "description": "Modelo Estandar con sympy.ipynb",
    "public": false
   },
   "id": ""
  },
  "kernelspec": {
   "display_name": "Python [default]",
   "language": "python",
   "name": "python3"
  },
  "language_info": {
   "codemirror_mode": {
    "name": "ipython",
    "version": 3
   },
   "file_extension": ".py",
   "mimetype": "text/x-python",
   "name": "python",
   "nbconvert_exporter": "python",
   "pygments_lexer": "ipython3",
   "version": "3.6.4"
  },
  "latex_envs": {
   "LaTeX_envs_menu_present": true,
   "autoclose": false,
   "autocomplete": true,
   "bibliofile": "biblio.bib",
   "cite_by": "apalike",
   "current_citInitial": 1,
   "eqLabelWithNumbers": true,
   "eqNumInitial": 1,
   "hotkeys": {
    "equation": "Ctrl-E",
    "itemize": "Ctrl-I"
   },
   "labels_anchors": false,
   "latex_user_defs": false,
   "report_style_numbering": false,
   "user_envs_cfg": false
  },
  "toc": {
   "nav_menu": {
    "height": "91px",
    "width": "238px"
   },
   "number_sections": true,
   "sideBar": true,
   "skip_h1_title": false,
   "toc_cell": false,
   "toc_position": {
    "height": "707px",
    "left": "0px",
    "right": "1314px",
    "top": "91px",
    "width": "286px"
   },
   "toc_section_display": "block",
   "toc_window_display": false
  }
 },
 "nbformat": 4,
 "nbformat_minor": 2
}
